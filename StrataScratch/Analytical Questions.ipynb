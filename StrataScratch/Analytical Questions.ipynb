{
 "cells": [
  {
   "cell_type": "markdown",
   "id": "f17a08da-6886-475c-a949-253c06a7003a",
   "metadata": {},
   "source": [
    "## Table of Contents\n",
    "<li><a href=\"#Unique_Users_Per_Client_Per_Month\">Unique_Users_Per_Client_Per_Month</a></li>\n",
    "<li><a href=\"#Number_of_Shipments_Per_Month\">Number_of_Shipments_Per_Month</a></li>\n",
    "<li><a href=\"#Most_Lucrative_Products\">Most_Lucrative_Products</a></li>\n",
    "<li><a href=\"#Write_Here\">Write_Here</a></li>\n",
    "<li><a href=\"#Write_Here\">Write_Here</a></li>\n",
    "<li><a href=\"#Write_Here\">Write_Here</a></li>\n",
    "<li><a href=\"#Write_Here\">Write_Here</a></li>\n",
    "<li><a href=\"#Write_Here\">Write_Here</a></li>\n",
    "<li><a href=\"#Write_Here\">Write_Here</a></li>\n",
    "<li><a href=\"#Write_Here\">Write_Here</a></li>\n",
    "<li><a href=\"#Write_Here\">Write_Here</a></li>\n",
    "<li><a href=\"#Write_Here\">Write_Here</a></li>\n",
    "<li><a href=\"#Write_Here\">Write_Here</a></li>\n",
    "<li><a href=\"#Write_Here\">Write_Here</a></li>\n",
    "<li><a href=\"#Write_Here\">Write_Here</a></li>\n",
    "<li><a href=\"#Write_Here\">Write_Here</a></li>"
   ]
  },
  {
   "cell_type": "code",
   "execution_count": 1,
   "id": "e934debd-3ab0-4134-bc39-c288b230d9b7",
   "metadata": {},
   "outputs": [
    {
     "name": "stdin",
     "output_type": "stream",
     "text": [
      " Most Lucrative Products\n"
     ]
    },
    {
     "data": {
      "text/plain": [
       "'Most_Lucrative_Products'"
      ]
     },
     "execution_count": 1,
     "metadata": {},
     "output_type": "execute_result"
    }
   ],
   "source": [
    "input().replace(' ', '_')"
   ]
  },
  {
   "cell_type": "markdown",
   "id": "3556025e-3f00-4df6-9ba4-198fdfb02927",
   "metadata": {},
   "source": [
    "<a id='Unique_Users_Per_Client_Per_Month'></a>\n",
    "# Unique_Users_Per_Client_Per_Month"
   ]
  },
  {
   "cell_type": "code",
   "execution_count": null,
   "id": "0a3b72b1-890c-4c04-93d7-4ce47356720e",
   "metadata": {},
   "outputs": [],
   "source": [
    "# Import your libraries\n",
    "import pandas as pd\n",
    "\n",
    "# Start writing code\n",
    "fact_events['month'] = fact_events['time_id'].dt.month\n",
    "fact_events.groupby(['client_id', 'month'])['user_id'].nunique().reset_index(name='users_num')"
   ]
  },
  {
   "cell_type": "markdown",
   "id": "7e4b215d-e8fa-486d-b87f-4e6168270bd9",
   "metadata": {},
   "source": [
    "```sql\n",
    "SELECT DISTINCT client_id, MONTH(time_id) AS month, COUNT(DISTINCT user_id) users_num\n",
    "FROM fact_events\n",
    "GROUP BY client_id, MONTH(time_id)\n",
    "```"
   ]
  },
  {
   "cell_type": "markdown",
   "id": "f1522b86-bb23-4639-a86e-fc4253c1c974",
   "metadata": {},
   "source": [
    "<a id='Number_of_Shipments_Per_Month'></a>\n",
    "# Number_of_Shipments_Per_Month"
   ]
  },
  {
   "cell_type": "code",
   "execution_count": null,
   "id": "f6f0af45-1718-4926-a881-83f1481c47fe",
   "metadata": {},
   "outputs": [],
   "source": [
    "# Import your libraries\n",
    "import pandas as pd\n",
    "\n",
    "# Start writing code\n",
    "amazon_shipment['year_month'] = amazon_shipment['shipment_date'].dt.strftime('%Y-%m')\n",
    "amazon_shipment['shipment_unique_key'] =  amazon_shipment['shipment_id'] + amazon_shipment['sub_id']\n",
    "amazon_shipment.groupby('year_month')['shipment_unique_key'].count().reset_index(name='count')"
   ]
  },
  {
   "cell_type": "markdown",
   "id": "06c460f2-fc8b-451d-9c80-6f67ae3c504c",
   "metadata": {},
   "source": [
    "```sql\n",
    "\n",
    "SELECT FORMAT(shipment_date, 'yyyy-MM') AS year_month, COUNT(DISTINCT CONCAT(shipment_id, '_' , sub_id)) AS [count]\n",
    "FROM amazon_shipment\n",
    "GROUP BY FORMAT(shipment_date, 'yyyy-MM')\n",
    "```"
   ]
  },
  {
   "cell_type": "markdown",
   "id": "1396f02a-ffaa-475d-a7ff-66a1b35136a4",
   "metadata": {},
   "source": [
    "<a id='Most_Lucrative_Products'></a>\n",
    "# Most_Lucrative_Products"
   ]
  },
  {
   "cell_type": "code",
   "execution_count": null,
   "id": "d73913c1-e84e-402f-9cc7-b934d234bedd",
   "metadata": {},
   "outputs": [],
   "source": [
    "# Import your libraries\n",
    "import pandas as pd\n",
    "\n",
    "# Start writing code\n",
    "\n",
    "orders_first_half = online_orders[online_orders['date_sold'].between('2022-01-01', '2022-06-30')]\n",
    "orders_first_half['revenue'] = online_orders['units_sold'] * online_orders['cost_in_dollars']\n",
    "orders_first_half.groupby('product_id' ,as_index=False)['revenue'].sum().sort_values(by='revenue', ascending=False).iloc[:5, :]"
   ]
  },
  {
   "cell_type": "markdown",
   "id": "b0bedbe2-9020-48c1-82c3-fc2f75bd7b58",
   "metadata": {},
   "source": [
    "```sql\n",
    "SELECT TOP(5) product_id, SUM(units_sold * cost_in_dollars) AS revenue\n",
    "FROM online_orders\n",
    "WHERE date_sold BETWEEN '2022-01-01' AND '2022-06-30'\n",
    "GROUP BY product_id\n",
    "ORDER BY revenue DESC\n",
    "```"
   ]
  },
  {
   "cell_type": "code",
   "execution_count": null,
   "id": "e8d96643-fe26-4560-9c2c-808be22611b5",
   "metadata": {},
   "outputs": [],
   "source": [
    "<a id='Refer_to'></a>\n",
    "# Refer_to"
   ]
  },
  {
   "cell_type": "code",
   "execution_count": null,
   "id": "21aca050-d542-44c4-b000-753677291bfb",
   "metadata": {},
   "outputs": [],
   "source": [
    "<a id='Refer_to'></a>\n",
    "# Refer_to"
   ]
  }
 ],
 "metadata": {
  "kernelspec": {
   "display_name": "Python 3 (ipykernel)",
   "language": "python",
   "name": "python3"
  },
  "language_info": {
   "codemirror_mode": {
    "name": "ipython",
    "version": 3
   },
   "file_extension": ".py",
   "mimetype": "text/x-python",
   "name": "python",
   "nbconvert_exporter": "python",
   "pygments_lexer": "ipython3",
   "version": "3.12.7"
  }
 },
 "nbformat": 4,
 "nbformat_minor": 5
}
