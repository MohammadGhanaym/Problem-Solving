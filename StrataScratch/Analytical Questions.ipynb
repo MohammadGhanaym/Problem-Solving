{
 "cells": [
  {
   "cell_type": "markdown",
   "id": "f17a08da-6886-475c-a949-253c06a7003a",
   "metadata": {},
   "source": [
    "## Table of Contents\n",
    "<li><a href=\"#Unique_Users_Per_Client_Per_Month\">Unique_Users_Per_Client_Per_Month</a></li>\n",
    "<li><a href=\"#Write_Here\">Write_Here</a></li>\n",
    "<li><a href=\"#Write_Here\">Write_Here</a></li>\n",
    "<li><a href=\"#Write_Here\">Write_Here</a></li>\n",
    "<li><a href=\"#Write_Here\">Write_Here</a></li>\n",
    "<li><a href=\"#Write_Here\">Write_Here</a></li>\n",
    "<li><a href=\"#Write_Here\">Write_Here</a></li>\n",
    "<li><a href=\"#Write_Here\">Write_Here</a></li>\n",
    "<li><a href=\"#Write_Here\">Write_Here</a></li>\n",
    "<li><a href=\"#Write_Here\">Write_Here</a></li>\n",
    "<li><a href=\"#Write_Here\">Write_Here</a></li>\n",
    "<li><a href=\"#Write_Here\">Write_Here</a></li>\n",
    "<li><a href=\"#Write_Here\">Write_Here</a></li>\n",
    "<li><a href=\"#Write_Here\">Write_Here</a></li>\n",
    "<li><a href=\"#Write_Here\">Write_Here</a></li>\n",
    "<li><a href=\"#Write_Here\">Write_Here</a></li>"
   ]
  },
  {
   "cell_type": "code",
   "execution_count": 3,
   "id": "e934debd-3ab0-4134-bc39-c288b230d9b7",
   "metadata": {},
   "outputs": [
    {
     "name": "stdin",
     "output_type": "stream",
     "text": [
      " Unique Users Per Client Per Month\n"
     ]
    },
    {
     "data": {
      "text/plain": [
       "'Unique_Users_Per_Client_Per_Month'"
      ]
     },
     "execution_count": 3,
     "metadata": {},
     "output_type": "execute_result"
    }
   ],
   "source": [
    "input().replace(' ', '_')"
   ]
  },
  {
   "cell_type": "markdown",
   "id": "3556025e-3f00-4df6-9ba4-198fdfb02927",
   "metadata": {},
   "source": [
    "<a id='Unique_Users_Per_Client_Per_Month'></a>\n",
    "# Unique_Users_Per_Client_Per_Month"
   ]
  },
  {
   "cell_type": "code",
   "execution_count": null,
   "id": "0a3b72b1-890c-4c04-93d7-4ce47356720e",
   "metadata": {},
   "outputs": [],
   "source": [
    "# Import your libraries\n",
    "import pandas as pd\n",
    "\n",
    "# Start writing code\n",
    "fact_events['month'] = fact_events['time_id'].dt.month\n",
    "fact_events.groupby(['client_id', 'month'])['user_id'].nunique().reset_index(name='users_num')"
   ]
  },
  {
   "cell_type": "markdown",
   "id": "7e4b215d-e8fa-486d-b87f-4e6168270bd9",
   "metadata": {},
   "source": [
    "```sql\n",
    "SELECT DISTINCT client_id, MONTH(time_id) AS month, COUNT(DISTINCT user_id) users_num\n",
    "FROM fact_events\n",
    "GROUP BY client_id, MONTH(time_id)"
   ]
  },
  {
   "cell_type": "code",
   "execution_count": null,
   "id": "df70800c-2b37-44a0-8965-7db0ea7073c8",
   "metadata": {},
   "outputs": [],
   "source": [
    "<a id='Refer_to'></a>\n",
    "# Refer_to"
   ]
  },
  {
   "cell_type": "code",
   "execution_count": null,
   "id": "3c0e2307-ff33-4051-ac9e-813ed9651ac5",
   "metadata": {},
   "outputs": [],
   "source": [
    "<a id='Refer_to'></a>\n",
    "# Refer_to"
   ]
  },
  {
   "cell_type": "code",
   "execution_count": null,
   "id": "e8d96643-fe26-4560-9c2c-808be22611b5",
   "metadata": {},
   "outputs": [],
   "source": [
    "<a id='Refer_to'></a>\n",
    "# Refer_to"
   ]
  },
  {
   "cell_type": "code",
   "execution_count": null,
   "id": "21aca050-d542-44c4-b000-753677291bfb",
   "metadata": {},
   "outputs": [],
   "source": [
    "<a id='Refer_to'></a>\n",
    "# Refer_to"
   ]
  }
 ],
 "metadata": {
  "kernelspec": {
   "display_name": "Python 3 (ipykernel)",
   "language": "python",
   "name": "python3"
  },
  "language_info": {
   "codemirror_mode": {
    "name": "ipython",
    "version": 3
   },
   "file_extension": ".py",
   "mimetype": "text/x-python",
   "name": "python",
   "nbconvert_exporter": "python",
   "pygments_lexer": "ipython3",
   "version": "3.12.7"
  }
 },
 "nbformat": 4,
 "nbformat_minor": 5
}
