{
 "cells": [
  {
   "cell_type": "markdown",
   "id": "f17a08da-6886-475c-a949-253c06a7003a",
   "metadata": {},
   "source": [
    "## Table of Contents\n",
    "<li><a href=\"#Unique_Users_Per_Client_Per_Month\">Unique_Users_Per_Client_Per_Month</a></li>\n",
    "<li><a href=\"#Number_of_Shipments_Per_Month\">Number_of_Shipments_Per_Month</a></li>\n",
    "<li><a href=\"#Most_Lucrative_Products\">Most_Lucrative_Products</a></li>\n",
    "<li><a href=\"#Number_Of_Bathrooms_And_Bedrooms\">Number_Of_Bathrooms_And_Bedrooms</a></li>\n",
    "<li><a href=\"#MacBookPro_User_Event_Count\">MacBookPro_User_Event_Count</a></li>\n",
    "<li><a href=\"#Most_Profitable_Financial_Company\">Most_Profitable_Financial_Company</a></li>\n",
    "<li><a href=\"#Write_Here\">Write_Here</a></li>\n",
    "<li><a href=\"#Write_Here\">Write_Here</a></li>\n",
    "<li><a href=\"#Write_Here\">Write_Here</a></li>\n",
    "<li><a href=\"#Write_Here\">Write_Here</a></li>\n",
    "<li><a href=\"#Write_Here\">Write_Here</a></li>\n",
    "<li><a href=\"#Write_Here\">Write_Here</a></li>\n",
    "<li><a href=\"#Write_Here\">Write_Here</a></li>\n",
    "<li><a href=\"#Write_Here\">Write_Here</a></li>\n",
    "<li><a href=\"#Write_Here\">Write_Here</a></li>\n",
    "<li><a href=\"#Write_Here\">Write_Here</a></li>"
   ]
  },
  {
   "cell_type": "code",
   "execution_count": 1,
   "id": "e934debd-3ab0-4134-bc39-c288b230d9b7",
   "metadata": {},
   "outputs": [
    {
     "name": "stdin",
     "output_type": "stream",
     "text": [
      " Most Profitable Financial Company\n"
     ]
    },
    {
     "data": {
      "text/plain": [
       "'Most_Profitable_Financial_Company'"
      ]
     },
     "execution_count": 1,
     "metadata": {},
     "output_type": "execute_result"
    }
   ],
   "source": [
    "input().replace(' ', '_')"
   ]
  },
  {
   "cell_type": "markdown",
   "id": "3556025e-3f00-4df6-9ba4-198fdfb02927",
   "metadata": {},
   "source": [
    "<a id='Unique_Users_Per_Client_Per_Month'></a>\n",
    "# Unique_Users_Per_Client_Per_Month"
   ]
  },
  {
   "cell_type": "code",
   "execution_count": null,
   "id": "0a3b72b1-890c-4c04-93d7-4ce47356720e",
   "metadata": {},
   "outputs": [],
   "source": [
    "# Import your libraries\n",
    "import pandas as pd\n",
    "\n",
    "# Start writing code\n",
    "fact_events['month'] = fact_events['time_id'].dt.month\n",
    "fact_events.groupby(['client_id', 'month'])['user_id'].nunique().reset_index(name='users_num')"
   ]
  },
  {
   "cell_type": "markdown",
   "id": "7e4b215d-e8fa-486d-b87f-4e6168270bd9",
   "metadata": {},
   "source": [
    "```sql\n",
    "SELECT DISTINCT client_id, MONTH(time_id) AS month, COUNT(DISTINCT user_id) users_num\n",
    "FROM fact_events\n",
    "GROUP BY client_id, MONTH(time_id)\n",
    "```"
   ]
  },
  {
   "cell_type": "markdown",
   "id": "f1522b86-bb23-4639-a86e-fc4253c1c974",
   "metadata": {},
   "source": [
    "<a id='Number_of_Shipments_Per_Month'></a>\n",
    "# Number_of_Shipments_Per_Month"
   ]
  },
  {
   "cell_type": "code",
   "execution_count": null,
   "id": "f6f0af45-1718-4926-a881-83f1481c47fe",
   "metadata": {},
   "outputs": [],
   "source": [
    "# Import your libraries\n",
    "import pandas as pd\n",
    "\n",
    "# Start writing code\n",
    "amazon_shipment['year_month'] = amazon_shipment['shipment_date'].dt.strftime('%Y-%m')\n",
    "amazon_shipment['shipment_unique_key'] =  amazon_shipment['shipment_id'] + amazon_shipment['sub_id']\n",
    "amazon_shipment.groupby('year_month')['shipment_unique_key'].count().reset_index(name='count')"
   ]
  },
  {
   "cell_type": "markdown",
   "id": "06c460f2-fc8b-451d-9c80-6f67ae3c504c",
   "metadata": {},
   "source": [
    "```sql\n",
    "\n",
    "SELECT FORMAT(shipment_date, 'yyyy-MM') AS year_month, COUNT(DISTINCT CONCAT(shipment_id, '_' , sub_id)) AS [count]\n",
    "FROM amazon_shipment\n",
    "GROUP BY FORMAT(shipment_date, 'yyyy-MM')\n",
    "```"
   ]
  },
  {
   "cell_type": "markdown",
   "id": "1396f02a-ffaa-475d-a7ff-66a1b35136a4",
   "metadata": {},
   "source": [
    "<a id='Most_Lucrative_Products'></a>\n",
    "# Most_Lucrative_Products"
   ]
  },
  {
   "cell_type": "code",
   "execution_count": null,
   "id": "d73913c1-e84e-402f-9cc7-b934d234bedd",
   "metadata": {},
   "outputs": [],
   "source": [
    "# Import your libraries\n",
    "import pandas as pd\n",
    "\n",
    "# Start writing code\n",
    "\n",
    "orders_first_half = online_orders[online_orders['date_sold'].between('2022-01-01', '2022-06-30')]\n",
    "orders_first_half['revenue'] = online_orders['units_sold'] * online_orders['cost_in_dollars']\n",
    "orders_first_half.groupby('product_id' ,as_index=False)['revenue'].sum().sort_values(by='revenue', ascending=False).iloc[:5, :]"
   ]
  },
  {
   "cell_type": "markdown",
   "id": "b0bedbe2-9020-48c1-82c3-fc2f75bd7b58",
   "metadata": {},
   "source": [
    "```sql\n",
    "SELECT TOP(5) product_id, SUM(units_sold * cost_in_dollars) AS revenue\n",
    "FROM online_orders\n",
    "WHERE date_sold BETWEEN '2022-01-01' AND '2022-06-30'\n",
    "GROUP BY product_id\n",
    "ORDER BY revenue DESC\n",
    "```"
   ]
  },
  {
   "cell_type": "markdown",
   "id": "439e2ef8-314f-40ee-9ec7-3f64b335e6c6",
   "metadata": {},
   "source": [
    "<a id='Number_Of_Bathrooms_And_Bedrooms'></a>\n",
    "# Number_Of_Bathrooms_And_Bedrooms"
   ]
  },
  {
   "cell_type": "code",
   "execution_count": null,
   "id": "5061ea81-2075-41a1-a466-f0bda24811ff",
   "metadata": {},
   "outputs": [],
   "source": [
    "airbnb_search_details.groupby(['city', 'property_type'], as_index=False).agg(n_bedrooms_avg = ('bedrooms', 'mean'),\n",
    "                                                             n_bathrooms_avg = ('bathrooms', 'mean'))"
   ]
  },
  {
   "cell_type": "markdown",
   "id": "3872f331-9b23-4114-bd11-0a30ac4ea1b2",
   "metadata": {},
   "source": [
    "```SQL\n",
    "SELECT city, \n",
    "       property_type, \n",
    "       AVG(CAST(bathrooms AS FLOAT)) AS n_bathrooms_avg, \n",
    "       AVG(CAST(bedrooms AS FLOAT)) AS n_bedrooms_avg\n",
    "FROM airbnb_search_details\n",
    "GROUP BY city, property_type\n",
    "```"
   ]
  },
  {
   "cell_type": "markdown",
   "id": "b5dda0f6-196e-443a-b09c-4a6b0d40f36d",
   "metadata": {},
   "source": [
    "<a id='MacBookPro_User_Event_Count'></a>\n",
    "# MacBookPro_User_Event_Count"
   ]
  },
  {
   "cell_type": "code",
   "execution_count": null,
   "id": "6d495c28-f218-4c56-a539-8736b9c48549",
   "metadata": {},
   "outputs": [],
   "source": [
    "# Import your libraries\n",
    "import pandas as pd\n",
    "\n",
    "# Start writing code\n",
    "mackbookpro_users = playbook_events[playbook_events['device'] == 'macbook pro']\n",
    "mackbookpro_users.event_name.value_counts().reset_index(name='event_count').rename(columns={'index': 'event_name'})"
   ]
  },
  {
   "cell_type": "markdown",
   "id": "2ce4ccda-74c2-4398-a670-2b10a5e992ea",
   "metadata": {},
   "source": [
    "```sql\n",
    "select event_name, COUNT(*) AS event_count\n",
    "FROM playbook_events\n",
    "WHERE device = 'macbook pro'\n",
    "GROUP BY event_name\n",
    "ORDER BY event_count DESC\n",
    "```"
   ]
  },
  {
   "cell_type": "markdown",
   "id": "3a4a2b70-8091-4864-8a5a-b88b6fa6e562",
   "metadata": {},
   "source": [
    "<a id='Most_Profitable_Financial_Company'></a>\n",
    "# Most_Profitable_Financial_Company"
   ]
  },
  {
   "cell_type": "code",
   "execution_count": null,
   "id": "e02ff264-f95d-4828-9dbc-a50c77838ce4",
   "metadata": {},
   "outputs": [],
   "source": [
    "# Import your libraries\n",
    "import pandas as pd\n",
    "\n",
    "# Start writing code\n",
    "Financials_companies = forbes_global_2010_2014[forbes_global_2010_2014.sector == 'Financials']\n",
    "Financials_companies[Financials_companies.profits == Financials_companies.profits.max()][['company', 'continent']]"
   ]
  },
  {
   "cell_type": "markdown",
   "id": "6ecbef9f-aed2-4d8d-a730-54d1cd866be6",
   "metadata": {},
   "source": [
    "```SQL\n",
    "SELECT TOP(1) company, continent\n",
    "FROM forbes_global_2010_2014\n",
    "WHERE sector = 'Financials'\n",
    "ORDER BY profits DESC\n",
    "```"
   ]
  },
  {
   "cell_type": "code",
   "execution_count": null,
   "id": "df51cfa0-30e3-40ad-b669-69054b17f496",
   "metadata": {},
   "outputs": [],
   "source": []
  },
  {
   "cell_type": "code",
   "execution_count": null,
   "id": "6f26a8db-705e-4843-9209-6ef0cbc7754a",
   "metadata": {},
   "outputs": [],
   "source": [
    "<a id='Refer_to'></a>\n",
    "# Refer_to"
   ]
  },
  {
   "cell_type": "code",
   "execution_count": null,
   "id": "b1829de9-07f6-4d51-a5fa-0525912cb6b8",
   "metadata": {},
   "outputs": [],
   "source": [
    "<a id='Refer_to'></a>\n",
    "# Refer_to"
   ]
  },
  {
   "cell_type": "code",
   "execution_count": null,
   "id": "cc475b6e-3e30-4b46-97ec-4d505d6c43d3",
   "metadata": {},
   "outputs": [],
   "source": [
    "<a id='Refer_to'></a>\n",
    "# Refer_to"
   ]
  },
  {
   "cell_type": "code",
   "execution_count": null,
   "id": "5e4b2e8f-c2d3-4853-9e5a-d8e6a88ed7cf",
   "metadata": {},
   "outputs": [],
   "source": [
    "<a id='Refer_to'></a>\n",
    "# Refer_to"
   ]
  },
  {
   "cell_type": "code",
   "execution_count": null,
   "id": "f3650826-fda8-4159-8a73-9bea26fe87ec",
   "metadata": {},
   "outputs": [],
   "source": [
    "<a id='Refer_to'></a>\n",
    "# Refer_to"
   ]
  },
  {
   "cell_type": "code",
   "execution_count": null,
   "id": "4c02edfc-0baa-4adc-9be0-de0fb64d0ed2",
   "metadata": {},
   "outputs": [],
   "source": [
    "<a id='Refer_to'></a>\n",
    "# Refer_to"
   ]
  },
  {
   "cell_type": "code",
   "execution_count": null,
   "id": "46c15ea9-f527-4535-b1b2-a04a412f04fc",
   "metadata": {},
   "outputs": [],
   "source": [
    "<a id='Refer_to'></a>\n",
    "# Refer_to"
   ]
  },
  {
   "cell_type": "code",
   "execution_count": null,
   "id": "c28c3543-a476-4694-a53b-47ecf480e69a",
   "metadata": {},
   "outputs": [],
   "source": [
    "<a id='Refer_to'></a>\n",
    "# Refer_to"
   ]
  }
 ],
 "metadata": {
  "kernelspec": {
   "display_name": "Python 3 (ipykernel)",
   "language": "python",
   "name": "python3"
  },
  "language_info": {
   "codemirror_mode": {
    "name": "ipython",
    "version": 3
   },
   "file_extension": ".py",
   "mimetype": "text/x-python",
   "name": "python",
   "nbconvert_exporter": "python",
   "pygments_lexer": "ipython3",
   "version": "3.12.7"
  }
 },
 "nbformat": 4,
 "nbformat_minor": 5
}
