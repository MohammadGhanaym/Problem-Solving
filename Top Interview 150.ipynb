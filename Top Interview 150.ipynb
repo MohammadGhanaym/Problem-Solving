{
 "cells": [
  {
   "cell_type": "markdown",
   "id": "4fedb765-eee9-4bd0-b842-2fe31002ca8b",
   "metadata": {},
   "source": [
    "# Top Interview 150\n",
    "\n",
    "<li><a href=\"#Merge_Sorted_Array\">Merge_Sorted_Array</a></li>\n",
    "<li><a href=\"#Write_Here\">Write_Here</a></li>\n",
    "<li><a href=\"#Write_Here\">Write_Here</a></li>\n",
    "<li><a href=\"#Write_Here\">Write_Here</a></li>\n",
    "<li><a href=\"#Write_Here\">Write_Here</a></li>\n",
    "<li><a href=\"#Write_Here\">Write_Here</a></li>\n",
    "<li><a href=\"#Write_Here\">Write_Here</a></li>\n",
    "<li><a href=\"#Write_Here\">Write_Here</a></li>\n",
    "<li><a href=\"#Write_Here\">Write_Here</a></li>\n",
    "<li><a href=\"#Write_Here\">Write_Here</a></li>\n",
    "<li><a href=\"#Write_Here\">Write_Here</a></li>\n",
    "<li><a href=\"#Write_Here\">Write_Here</a></li>\n",
    "<li><a href=\"#Write_Here\">Write_Here</a></li>\n",
    "<li><a href=\"#Write_Here\">Write_Here</a></li>\n",
    "<li><a href=\"#Write_Here\">Write_Here</a></li>\n",
    "<li><a href=\"#Write_Here\">Write_Here</a></li>\n",
    "<li><a href=\"#Write_Here\">Write_Here</a></li>\n",
    "<li><a href=\"#Write_Here\">Write_Here</a></li>"
   ]
  },
  {
   "cell_type": "code",
   "execution_count": 1,
   "id": "3d8c49df-db22-4883-af42-e53c1b779e4b",
   "metadata": {},
   "outputs": [
    {
     "name": "stdin",
     "output_type": "stream",
     "text": [
      " Merge Sorted Array\n"
     ]
    },
    {
     "data": {
      "text/plain": [
       "'Merge_Sorted_Array'"
      ]
     },
     "execution_count": 1,
     "metadata": {},
     "output_type": "execute_result"
    }
   ],
   "source": [
    "problem = input()\n",
    "problem.replace(' ', '_')"
   ]
  },
  {
   "cell_type": "markdown",
   "id": "ba6765b9-a828-44b8-8ca9-ba2c354a90fe",
   "metadata": {},
   "source": [
    "<a id='Merge_Sorted_Array'></a>\n",
    "### Merge_Sorted_Array"
   ]
  },
  {
   "cell_type": "code",
   "execution_count": 13,
   "id": "bbe962bb-3030-4034-9dff-e99df3e5bf29",
   "metadata": {},
   "outputs": [],
   "source": [
    "def merge(nums1, m: int, nums2, n: int) -> None:\n",
    "    idx1 = 0\n",
    "    idx2 = 0\n",
    "    sorted_arr = []\n",
    "    while idx1 < m and idx2 < n:\n",
    "        if nums1[idx1] < nums2[idx2]:\n",
    "            sorted_arr.append(nums1[idx1])\n",
    "            idx1 += 1\n",
    "        else:\n",
    "            sorted_arr.append(nums2[idx2])\n",
    "            idx2 += 1\n",
    "\n",
    "    \n",
    "    while idx2 < n:\n",
    "        sorted_arr.append(nums2[idx2])\n",
    "        idx2 += 1\n",
    "    \n",
    "    while idx1 < m:\n",
    "        sorted_arr.append(nums1[idx1])\n",
    "        idx1 += 1\n",
    "\n",
    "    for idx in range(len(nums1)):\n",
    "        nums1[idx] = sorted_arr[idx]"
   ]
  },
  {
   "cell_type": "code",
   "execution_count": 14,
   "id": "f8d09653-27e3-4eea-8b38-decc7edc9406",
   "metadata": {},
   "outputs": [
    {
     "data": {
      "text/plain": [
       "[1, 2, 2, 3, 5, 6]"
      ]
     },
     "execution_count": 14,
     "metadata": {},
     "output_type": "execute_result"
    }
   ],
   "source": [
    "nums1 = [1,2,3,0,0,0]\n",
    "m = 3\n",
    "nums2 = [2,5,6]\n",
    "n = 3\n",
    "\n",
    "merge(nums1, m, nums2, n)\n",
    "nums1"
   ]
  },
  {
   "cell_type": "markdown",
   "id": "9ae27ba4-0b78-4bd0-9828-a09bd4028df5",
   "metadata": {},
   "source": [
    "#### Another Solution"
   ]
  },
  {
   "cell_type": "code",
   "execution_count": 17,
   "id": "e2f75c75-218d-45ba-8c4b-a9ab08c8b929",
   "metadata": {},
   "outputs": [],
   "source": [
    "def merge(nums1, m: int, nums2, n: int) -> None:\n",
    "    idx1 = m - 1\n",
    "    idx2 = n - 1\n",
    "    next_biggest = m + n - 1\n",
    "    while idx2 >= 0:\n",
    "        if idx1 >= 0 and nums1[idx1] > nums2[idx2]:\n",
    "            nums1[next_biggest] = nums1[idx1]\n",
    "            idx1 -= 1\n",
    "        else:\n",
    "            nums1[next_biggest] = nums2[idx2]\n",
    "            idx2 -= 1\n",
    "\n",
    "        next_biggest -= 1"
   ]
  },
  {
   "cell_type": "code",
   "execution_count": 18,
   "id": "bdc6b1ce-8935-4f61-a376-ad6e64d85be5",
   "metadata": {},
   "outputs": [
    {
     "data": {
      "text/plain": [
       "[1, 2, 2, 3, 5, 6]"
      ]
     },
     "execution_count": 18,
     "metadata": {},
     "output_type": "execute_result"
    }
   ],
   "source": [
    "nums1 = [1,2,3,0,0,0]\n",
    "m = 3\n",
    "nums2 = [2,5,6]\n",
    "n = 3\n",
    "\n",
    "merge(nums1, m, nums2, n)\n",
    "nums1"
   ]
  },
  {
   "cell_type": "code",
   "execution_count": null,
   "id": "352f0a9a-9a76-4c5a-a020-5df7c24ac0a9",
   "metadata": {},
   "outputs": [],
   "source": []
  },
  {
   "cell_type": "code",
   "execution_count": null,
   "id": "d11a1f65-5f44-49d7-8018-de8a704cfaf1",
   "metadata": {},
   "outputs": [],
   "source": [
    "<a id='Refer_to'></a>\n",
    "### Refer_to"
   ]
  },
  {
   "cell_type": "code",
   "execution_count": null,
   "id": "6b8ac8be-9f14-47f7-88a3-afaf301e3203",
   "metadata": {},
   "outputs": [],
   "source": [
    "<a id='Refer_to'></a>\n",
    "### Refer_to"
   ]
  },
  {
   "cell_type": "code",
   "execution_count": null,
   "id": "48d489c3-9c82-4763-9a5b-b4730fab2b65",
   "metadata": {},
   "outputs": [],
   "source": [
    "<a id='Refer_to'></a>\n",
    "### Refer_to"
   ]
  },
  {
   "cell_type": "code",
   "execution_count": null,
   "id": "b1d938fb-8caa-40ae-ad21-521e31198599",
   "metadata": {},
   "outputs": [],
   "source": [
    "<a id='Refer_to'></a>\n",
    "### Refer_to"
   ]
  },
  {
   "cell_type": "code",
   "execution_count": null,
   "id": "5de024b0-3265-4db0-adb7-6500dfd0feb3",
   "metadata": {},
   "outputs": [],
   "source": [
    "<a id='Refer_to'></a>\n",
    "### Refer_to"
   ]
  }
 ],
 "metadata": {
  "kernelspec": {
   "display_name": "Python 3 (ipykernel)",
   "language": "python",
   "name": "python3"
  },
  "language_info": {
   "codemirror_mode": {
    "name": "ipython",
    "version": 3
   },
   "file_extension": ".py",
   "mimetype": "text/x-python",
   "name": "python",
   "nbconvert_exporter": "python",
   "pygments_lexer": "ipython3",
   "version": "3.11.7"
  }
 },
 "nbformat": 4,
 "nbformat_minor": 5
}
