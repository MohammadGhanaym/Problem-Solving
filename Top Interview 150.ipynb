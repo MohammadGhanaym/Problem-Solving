{
 "cells": [
  {
   "cell_type": "markdown",
   "id": "4fedb765-eee9-4bd0-b842-2fe31002ca8b",
   "metadata": {},
   "source": [
    "# Top Interview 150\n",
    "\n",
    "<li><a href=\"#Merge_Sorted_Array\">Merge_Sorted_Array</a></li>\n",
    "<li><a href=\"#Remove_Element\">Remove_Element</a></li>\n",
    "<li><a href=\"#Remove_Duplicates_from_Sorted_Array_Easy\">Remove_Duplicates_from_Sorted_Array_Easy</a></li>\n",
    "<li><a href=\"#Remove_Duplicates_from_Sorted_Array_II\">Remove_Duplicates_from_Sorted_Array_II</a></li>\n",
    "<li><a href=\"#Majority_Element\">Majority_Element</a></li>\n",
    "<li><a href=\"#Write_Here\">Write_Here</a></li>\n",
    "<li><a href=\"#Write_Here\">Write_Here</a></li>\n",
    "<li><a href=\"#Write_Here\">Write_Here</a></li>\n",
    "<li><a href=\"#Write_Here\">Write_Here</a></li>\n",
    "<li><a href=\"#Write_Here\">Write_Here</a></li>\n",
    "<li><a href=\"#Write_Here\">Write_Here</a></li>\n",
    "<li><a href=\"#Write_Here\">Write_Here</a></li>\n",
    "<li><a href=\"#Write_Here\">Write_Here</a></li>\n",
    "<li><a href=\"#Write_Here\">Write_Here</a></li>\n",
    "<li><a href=\"#Write_Here\">Write_Here</a></li>\n",
    "<li><a href=\"#Write_Here\">Write_Here</a></li>\n",
    "<li><a href=\"#Write_Here\">Write_Here</a></li>\n",
    "<li><a href=\"#Write_Here\">Write_Here</a></li>"
   ]
  },
  {
   "cell_type": "code",
   "execution_count": 1,
   "id": "3d8c49df-db22-4883-af42-e53c1b779e4b",
   "metadata": {},
   "outputs": [
    {
     "name": "stdin",
     "output_type": "stream",
     "text": [
      " 169. Majority Element\n"
     ]
    },
    {
     "data": {
      "text/plain": [
       "'169._Majority_Element'"
      ]
     },
     "execution_count": 1,
     "metadata": {},
     "output_type": "execute_result"
    }
   ],
   "source": [
    "problem = input()\n",
    "problem.replace(' ', '_')"
   ]
  },
  {
   "cell_type": "markdown",
   "id": "ba6765b9-a828-44b8-8ca9-ba2c354a90fe",
   "metadata": {},
   "source": [
    "<a id='Merge_Sorted_Array'></a>\n",
    "### Merge_Sorted_Array"
   ]
  },
  {
   "cell_type": "code",
   "execution_count": 13,
   "id": "bbe962bb-3030-4034-9dff-e99df3e5bf29",
   "metadata": {},
   "outputs": [],
   "source": [
    "def merge(nums1, m: int, nums2, n: int) -> None:\n",
    "    idx1 = 0\n",
    "    idx2 = 0\n",
    "    sorted_arr = []\n",
    "    while idx1 < m and idx2 < n:\n",
    "        if nums1[idx1] < nums2[idx2]:\n",
    "            sorted_arr.append(nums1[idx1])\n",
    "            idx1 += 1\n",
    "        else:\n",
    "            sorted_arr.append(nums2[idx2])\n",
    "            idx2 += 1\n",
    "\n",
    "    \n",
    "    while idx2 < n:\n",
    "        sorted_arr.append(nums2[idx2])\n",
    "        idx2 += 1\n",
    "    \n",
    "    while idx1 < m:\n",
    "        sorted_arr.append(nums1[idx1])\n",
    "        idx1 += 1\n",
    "\n",
    "    for idx in range(len(nums1)):\n",
    "        nums1[idx] = sorted_arr[idx]"
   ]
  },
  {
   "cell_type": "code",
   "execution_count": 14,
   "id": "f8d09653-27e3-4eea-8b38-decc7edc9406",
   "metadata": {},
   "outputs": [
    {
     "data": {
      "text/plain": [
       "[1, 2, 2, 3, 5, 6]"
      ]
     },
     "execution_count": 14,
     "metadata": {},
     "output_type": "execute_result"
    }
   ],
   "source": [
    "nums1 = [1,2,3,0,0,0]\n",
    "m = 3\n",
    "nums2 = [2,5,6]\n",
    "n = 3\n",
    "\n",
    "merge(nums1, m, nums2, n)\n",
    "nums1"
   ]
  },
  {
   "cell_type": "markdown",
   "id": "9ae27ba4-0b78-4bd0-9828-a09bd4028df5",
   "metadata": {},
   "source": [
    "#### Another Solution"
   ]
  },
  {
   "cell_type": "code",
   "execution_count": 17,
   "id": "e2f75c75-218d-45ba-8c4b-a9ab08c8b929",
   "metadata": {},
   "outputs": [],
   "source": [
    "def merge(nums1, m: int, nums2, n: int) -> None:\n",
    "    idx1 = m - 1\n",
    "    idx2 = n - 1\n",
    "    next_biggest = m + n - 1\n",
    "    while idx2 >= 0:\n",
    "        if idx1 >= 0 and nums1[idx1] > nums2[idx2]:\n",
    "            nums1[next_biggest] = nums1[idx1]\n",
    "            idx1 -= 1\n",
    "        else:\n",
    "            nums1[next_biggest] = nums2[idx2]\n",
    "            idx2 -= 1\n",
    "\n",
    "        next_biggest -= 1"
   ]
  },
  {
   "cell_type": "code",
   "execution_count": 18,
   "id": "bdc6b1ce-8935-4f61-a376-ad6e64d85be5",
   "metadata": {},
   "outputs": [
    {
     "data": {
      "text/plain": [
       "[1, 2, 2, 3, 5, 6]"
      ]
     },
     "execution_count": 18,
     "metadata": {},
     "output_type": "execute_result"
    }
   ],
   "source": [
    "nums1 = [1,2,3,0,0,0]\n",
    "m = 3\n",
    "nums2 = [2,5,6]\n",
    "n = 3\n",
    "\n",
    "merge(nums1, m, nums2, n)\n",
    "nums1"
   ]
  },
  {
   "cell_type": "markdown",
   "id": "9af4be72-be50-4f9b-acf2-e107dae61d1a",
   "metadata": {},
   "source": [
    "<a id='Remove_Element'></a>\n",
    "### Remove_Element"
   ]
  },
  {
   "cell_type": "code",
   "execution_count": 68,
   "id": "352f0a9a-9a76-4c5a-a020-5df7c24ac0a9",
   "metadata": {},
   "outputs": [],
   "source": [
    "def removeElement(nums, val: int) -> int:\n",
    "    index = 0\n",
    "    for i in range(len(nums)):\n",
    "        if nums[i] != val:\n",
    "            nums[index] = nums[i]\n",
    "            index += 1\n",
    "\n",
    "    return index"
   ]
  },
  {
   "cell_type": "code",
   "execution_count": 69,
   "id": "bd846477-6ea6-4800-beea-731facb20bcc",
   "metadata": {},
   "outputs": [
    {
     "data": {
      "text/plain": [
       "1"
      ]
     },
     "execution_count": 69,
     "metadata": {},
     "output_type": "execute_result"
    }
   ],
   "source": [
    "nums = [4, 5]\n",
    "\n",
    "#nums = [2]\n",
    "removeElement(nums, 4)"
   ]
  },
  {
   "cell_type": "markdown",
   "id": "9939f3e2-5302-4dce-a4d0-22a841bc4cee",
   "metadata": {},
   "source": [
    "<a id='Remove_Duplicates_from_Sorted_Array_Easy'></a>\n",
    "### Remove_Duplicates_from_Sorted_Array_Easy"
   ]
  },
  {
   "cell_type": "code",
   "execution_count": 22,
   "id": "60dfe61c-4ca9-4129-b30a-8f4cf28676ff",
   "metadata": {},
   "outputs": [],
   "source": [
    "def removeDuplicates(nums) -> int:\n",
    "    unique_arr = []\n",
    "    k = 0\n",
    "    for num in nums:\n",
    "        if num not in unique_arr:\n",
    "            unique_arr.append(num)\n",
    "            k += 1\n",
    "    \n",
    "    for i in range(k):\n",
    "        nums[i] = unique_arr[i]\n",
    "        \n",
    "    return k"
   ]
  },
  {
   "cell_type": "code",
   "execution_count": 25,
   "id": "000ec5fb-d461-48d1-a383-9daa52899686",
   "metadata": {},
   "outputs": [
    {
     "data": {
      "text/plain": [
       "2"
      ]
     },
     "execution_count": 25,
     "metadata": {},
     "output_type": "execute_result"
    }
   ],
   "source": [
    "arr = [1, 1, 2]\n",
    "removeDuplicates(arr)"
   ]
  },
  {
   "cell_type": "code",
   "execution_count": 29,
   "id": "ef185ab5-ea09-492b-ae92-dd26cc4e77cd",
   "metadata": {},
   "outputs": [],
   "source": [
    "def removeDuplicates(nums) -> int:\n",
    "    j = 1\n",
    "    for i in range(1, len(nums)):\n",
    "        if nums[i] != nums[j-1]:\n",
    "            nums[j] = nums[i]\n",
    "            j += 1\n",
    "\n",
    "    return j\n",
    "\n"
   ]
  },
  {
   "cell_type": "code",
   "execution_count": 30,
   "id": "361b53b5-2a79-4211-b397-838bb8f29de5",
   "metadata": {},
   "outputs": [
    {
     "data": {
      "text/plain": [
       "2"
      ]
     },
     "execution_count": 30,
     "metadata": {},
     "output_type": "execute_result"
    }
   ],
   "source": [
    "arr = [1, 1, 2]\n",
    "removeDuplicates(arr)"
   ]
  },
  {
   "cell_type": "markdown",
   "id": "4905cabe-8101-4b68-b7ab-54f8301bbe90",
   "metadata": {},
   "source": [
    "<a id='Remove_Duplicates_from_Sorted_Array_II'></a>\n",
    "### Remove_Duplicates_from_Sorted_Array_II"
   ]
  },
  {
   "cell_type": "code",
   "execution_count": 18,
   "id": "6f360642-1e97-4a10-b01d-332274d03b56",
   "metadata": {},
   "outputs": [],
   "source": [
    "def removeDuplicates(nums) -> int:\n",
    "    arr_size = len(nums)\n",
    "    if arr_size > 2:\n",
    "        j = 2\n",
    "        for i in range(2, arr_size):\n",
    "            if nums[j-2] != nums[i]:\n",
    "                nums[j] = nums[i]\n",
    "                j += 1\n",
    "\n",
    "        arr_size = j\n",
    "    return arr_size"
   ]
  },
  {
   "cell_type": "code",
   "execution_count": 19,
   "id": "2e162eb8-c641-496d-83a9-f71672f0d550",
   "metadata": {},
   "outputs": [
    {
     "name": "stdout",
     "output_type": "stream",
     "text": [
      "[0, 0, 1, 1, 2, 3, 3, 3, 3]\n"
     ]
    },
    {
     "data": {
      "text/plain": [
       "7"
      ]
     },
     "execution_count": 19,
     "metadata": {},
     "output_type": "execute_result"
    }
   ],
   "source": [
    "nums = [0, 0, 1, 1, 1, 1, 2, 3, 3]\n",
    "removeDuplicates(nums)"
   ]
  },
  {
   "cell_type": "markdown",
   "id": "aca06f2e-027b-469c-b75c-bc87fb1ec898",
   "metadata": {},
   "source": [
    "<a id='Majority_Element'></a>\n",
    "### Majority_Element"
   ]
  },
  {
   "cell_type": "code",
   "execution_count": 12,
   "id": "4615f9d7-79dc-44e5-be7a-54e56079e574",
   "metadata": {},
   "outputs": [],
   "source": [
    "def majorityElement(nums) -> int:\n",
    "    nums_count = {}\n",
    "    for num in nums:\n",
    "        nums_count[num] = nums_count.get(num, 0) + 1\n",
    "\n",
    "    \n",
    "    return list(filter(lambda key:nums_count[key] > (len(nums) / 2), nums_count))[0]\n"
   ]
  },
  {
   "cell_type": "code",
   "execution_count": 16,
   "id": "c8f03adf-bd2e-4412-b655-9820f245b656",
   "metadata": {},
   "outputs": [],
   "source": [
    "# better solution\n",
    "def majorityElement(nums) -> int:\n",
    "    nums_count = {}\n",
    "    for num in nums:\n",
    "        nums_count[num] = nums_count.get(num, 0) + 1\n",
    "    return sorted(nums_count, key=lambda key:nums_count[key])[-1]\n"
   ]
  },
  {
   "cell_type": "code",
   "execution_count": 32,
   "id": "d5554adc-4d22-4a38-88ff-a3b6997f78eb",
   "metadata": {},
   "outputs": [],
   "source": [
    "# Moore Voting Algorithm\n",
    "def majorityElement(nums) -> int:\n",
    "    num_vote = 0\n",
    "    candidate = 0\n",
    "    for num in nums:\n",
    "        if num_vote == 0:\n",
    "            candidate = num\n",
    "            \n",
    "        if candidate == num:\n",
    "            num_vote += 1\n",
    "        else:\n",
    "            num_vote -= 1\n",
    "            \n",
    "    return candidate"
   ]
  },
  {
   "cell_type": "code",
   "execution_count": 34,
   "id": "a707bba4-770c-44d6-ba5f-46a733349b1d",
   "metadata": {},
   "outputs": [
    {
     "data": {
      "text/plain": [
       "2"
      ]
     },
     "execution_count": 34,
     "metadata": {},
     "output_type": "execute_result"
    }
   ],
   "source": [
    "nums = [2,2,1,1,1,2,2]\n",
    "#nums = [3, 2, 3]\n",
    "majorityElement(nums)"
   ]
  },
  {
   "cell_type": "code",
   "execution_count": null,
   "id": "3f3752f3-d76e-438a-85cd-fea604a6ba27",
   "metadata": {},
   "outputs": [],
   "source": []
  },
  {
   "cell_type": "code",
   "execution_count": null,
   "id": "5de024b0-3265-4db0-adb7-6500dfd0feb3",
   "metadata": {},
   "outputs": [],
   "source": [
    "<a id='Refer_to'></a>\n",
    "### Refer_to"
   ]
  }
 ],
 "metadata": {
  "kernelspec": {
   "display_name": "Python 3 (ipykernel)",
   "language": "python",
   "name": "python3"
  },
  "language_info": {
   "codemirror_mode": {
    "name": "ipython",
    "version": 3
   },
   "file_extension": ".py",
   "mimetype": "text/x-python",
   "name": "python",
   "nbconvert_exporter": "python",
   "pygments_lexer": "ipython3",
   "version": "3.11.7"
  }
 },
 "nbformat": 4,
 "nbformat_minor": 5
}
