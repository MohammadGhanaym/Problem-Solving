{
 "cells": [
  {
   "cell_type": "markdown",
   "id": "ff574f7d",
   "metadata": {},
   "source": [
    "## Table of Contents\n",
    "### Difficulty: Easy\n",
    "1.  <a href=\"#Two Sum\">Two Sum</a>\n",
    "<li><a href=\"#Palindrome Number\">Palindrome Number</a></li>\n",
    "<li><a href=\"#Roman to Integer\">Roman to Integer</a></li>\n",
    "<li><a href=\"#Write_Here\">Write_Here</a></li>\n",
    "<li><a href=\"#Write_Here\">Write_Here</a></li>\n",
    "<li><a href=\"#Write_Here\">Write_Here</a></li>\n",
    "<li><a href=\"#Write_Here\">Write_Here</a></li>\n",
    "<li><a href=\"#Write_Here\">Write_Here</a></li>\n",
    "<li><a href=\"#Write_Here\">Write_Here</a></li>\n",
    "<li><a href=\"#Write_Here\">Write_Here</a></li>\n",
    "<li><a href=\"#Write_Here\">Write_Here</a></li>\n",
    "<li><a href=\"#Write_Here\">Write_Here</a></li>\n",
    "<li><a href=\"#Write_Here\">Write_Here</a></li>\n",
    "<li><a href=\"#Write_Here\">Write_Here</a></li>\n",
    "<li><a href=\"#Write_Here\">Write_Here</a></li>\n",
    "<li><a href=\"#Write_Here\">Write_Here</a></li>\n",
    "<li><a href=\"#Write_Here\">Write_Here</a></li>\n",
    "<li><a href=\"#Write_Here\">Write_Here</a></li>\n",
    "<li><a href=\"#Write_Here\">Write_Here</a></li>\n",
    "<li><a href=\"#Write_Here\">Write_Here</a></li>\n",
    "<li><a href=\"#Write_Here\">Write_Here</a></li>\n",
    "<li><a href=\"#Write_Here\">Write_Here</a></li>\n",
    "<li><a href=\"#Write_Here\">Write_Here</a></li>\n",
    "<li><a href=\"#Write_Here\">Write_Here</a></li>\n",
    "<li><a href=\"#Write_Here\">Write_Here</a></li>\n",
    "<li><a href=\"#Write_Here\">Write_Here</a></li>\n",
    "<li><a href=\"#Write_Here\">Write_Here</a></li>\n",
    "<li><a href=\"#Write_Here\">Write_Here</a></li>\n",
    "<li><a href=\"#Write_Here\">Write_Here</a></li>"
   ]
  },
  {
   "cell_type": "markdown",
   "id": "d469fe96",
   "metadata": {},
   "source": [
    "<a id='Two Sum'></a>\n",
    "### Two Sum"
   ]
  },
  {
   "cell_type": "code",
   "execution_count": 64,
   "id": "6195eab4",
   "metadata": {},
   "outputs": [],
   "source": [
    "def twoSum(nums, target):\n",
    "    idx1 = 0\n",
    "    idx2 = idx1 + 1\n",
    "    nums_size = len(nums)\n",
    "    while idx1 < nums_size - 1:\n",
    "        if nums[idx1] + nums[idx2] == target:\n",
    "            return [idx1, idx2]\n",
    "        else:\n",
    "            if idx2 == nums_size - 1:\n",
    "                idx1 = idx1 + 1\n",
    "                idx2 = idx1 + 1\n",
    "            else:\n",
    "                idx2 = idx2 + 1\n",
    "                \n",
    "            continue\n",
    "    return []"
   ]
  },
  {
   "cell_type": "code",
   "execution_count": 65,
   "id": "309d7c26",
   "metadata": {},
   "outputs": [
    {
     "data": {
      "text/plain": [
       "[0, 1]"
      ]
     },
     "execution_count": 65,
     "metadata": {},
     "output_type": "execute_result"
    }
   ],
   "source": [
    "twoSum([2,7,11,15], 9)"
   ]
  },
  {
   "cell_type": "code",
   "execution_count": 66,
   "id": "dc1cafba",
   "metadata": {},
   "outputs": [
    {
     "data": {
      "text/plain": [
       "[0, 1]"
      ]
     },
     "execution_count": 66,
     "metadata": {},
     "output_type": "execute_result"
    }
   ],
   "source": [
    "twoSum([3, 3], 6)"
   ]
  },
  {
   "cell_type": "code",
   "execution_count": 67,
   "id": "0a21322d",
   "metadata": {},
   "outputs": [
    {
     "data": {
      "text/plain": [
       "[1, 2]"
      ]
     },
     "execution_count": 67,
     "metadata": {},
     "output_type": "execute_result"
    }
   ],
   "source": [
    "twoSum([3, 2, 4], 6)"
   ]
  },
  {
   "cell_type": "code",
   "execution_count": 68,
   "id": "01d87263",
   "metadata": {},
   "outputs": [
    {
     "data": {
      "text/plain": [
       "[0, 2]"
      ]
     },
     "execution_count": 68,
     "metadata": {},
     "output_type": "execute_result"
    }
   ],
   "source": [
    "twoSum([3, 2, 3], 6)"
   ]
  },
  {
   "cell_type": "markdown",
   "id": "977c2eee",
   "metadata": {},
   "source": [
    "<a id='Palindrome Number'></a>\n",
    "### Palindrome Number\n"
   ]
  },
  {
   "cell_type": "code",
   "execution_count": 14,
   "id": "0ab31d0a",
   "metadata": {},
   "outputs": [],
   "source": [
    "def isPalindrome(x):\n",
    "    x = str(x)\n",
    "    if x == x[::-1]:\n",
    "        return True\n",
    "    return False"
   ]
  },
  {
   "cell_type": "code",
   "execution_count": 15,
   "id": "3dd5d9b7",
   "metadata": {},
   "outputs": [],
   "source": [
    "def isPalindrome(x):\n",
    "    x = str(x)\n",
    "    return x == x[::-1]"
   ]
  },
  {
   "cell_type": "code",
   "execution_count": 16,
   "id": "ce974ec6",
   "metadata": {},
   "outputs": [
    {
     "name": "stdout",
     "output_type": "stream",
     "text": [
      "121\n"
     ]
    },
    {
     "data": {
      "text/plain": [
       "True"
      ]
     },
     "execution_count": 16,
     "metadata": {},
     "output_type": "execute_result"
    }
   ],
   "source": [
    "val = int(input())\n",
    "isPalindrome(val)"
   ]
  },
  {
   "cell_type": "markdown",
   "id": "e03e3eb9",
   "metadata": {},
   "source": [
    "<a id='Roman to Integer'></a>\n",
    "### Roman to Integer"
   ]
  },
  {
   "cell_type": "code",
   "execution_count": 69,
   "id": "22a8120f",
   "metadata": {},
   "outputs": [],
   "source": [
    "def romanToInt(s):\n",
    "    roman_symbols = {'I':1, 'V':5, 'X':10, 'L':50, 'C':100, 'D':500, 'M':1000}\n",
    "    sub_roman = {'IV':4, 'IX':9, 'XL':40, 'XC':90, 'CD':400, 'CM':900}\n",
    "    num = 0\n",
    "    while len(s) >= 2:\n",
    "        if s[:2] in sub_roman.keys():\n",
    "            num = num + sub_roman.get(s[:2])\n",
    "            s = s[2:]\n",
    "        else:\n",
    "            num = num + roman_symbols.get(s[0])\n",
    "            s = s[1:]\n",
    "    \n",
    "    if s:\n",
    "        num = num + roman_symbols.get(s)\n",
    "    return num \n",
    "    "
   ]
  },
  {
   "cell_type": "code",
   "execution_count": 70,
   "id": "c23f4f5a",
   "metadata": {},
   "outputs": [
    {
     "data": {
      "text/plain": [
       "1476"
      ]
     },
     "execution_count": 70,
     "metadata": {},
     "output_type": "execute_result"
    }
   ],
   "source": [
    "romanToInt(\"MCDLXXVI\") # 1476"
   ]
  },
  {
   "cell_type": "code",
   "execution_count": null,
   "id": "96ba4c72",
   "metadata": {},
   "outputs": [],
   "source": [
    "<a id='Refer_to'></a>\n",
    "### Refer_to"
   ]
  },
  {
   "cell_type": "code",
   "execution_count": null,
   "id": "7853c53f",
   "metadata": {},
   "outputs": [],
   "source": [
    "<a id='Refer_to'></a>\n",
    "### Refer_to"
   ]
  },
  {
   "cell_type": "code",
   "execution_count": null,
   "id": "5d7b1850",
   "metadata": {},
   "outputs": [],
   "source": [
    "<a id='Refer_to'></a>\n",
    "### Refer_to"
   ]
  },
  {
   "cell_type": "code",
   "execution_count": null,
   "id": "8e6438d2",
   "metadata": {},
   "outputs": [],
   "source": [
    "<a id='Refer_to'></a>\n",
    "### Refer_to"
   ]
  },
  {
   "cell_type": "code",
   "execution_count": null,
   "id": "c5d41ee7",
   "metadata": {},
   "outputs": [],
   "source": [
    "<a id='Refer_to'></a>\n",
    "### Refer_to"
   ]
  },
  {
   "cell_type": "code",
   "execution_count": null,
   "id": "9b413c65",
   "metadata": {},
   "outputs": [],
   "source": [
    "<a id='Refer_to'></a>\n",
    "### Refer_to"
   ]
  },
  {
   "cell_type": "code",
   "execution_count": null,
   "id": "481ca6bb",
   "metadata": {},
   "outputs": [],
   "source": [
    "<a id='Refer_to'></a>\n",
    "### Refer_to"
   ]
  },
  {
   "cell_type": "code",
   "execution_count": null,
   "id": "acb29652",
   "metadata": {},
   "outputs": [],
   "source": [
    "<a id='Refer_to'></a>\n",
    "### Refer_to"
   ]
  },
  {
   "cell_type": "code",
   "execution_count": null,
   "id": "fb192088",
   "metadata": {},
   "outputs": [],
   "source": [
    "<a id='Refer_to'></a>\n",
    "### Refer_to"
   ]
  },
  {
   "cell_type": "code",
   "execution_count": null,
   "id": "29c94bbb",
   "metadata": {},
   "outputs": [],
   "source": [
    "<a id='Refer_to'></a>\n",
    "### Refer_to"
   ]
  },
  {
   "cell_type": "code",
   "execution_count": null,
   "id": "0079cd79",
   "metadata": {},
   "outputs": [],
   "source": [
    "<a id='Refer_to'></a>\n",
    "### Refer_to"
   ]
  },
  {
   "cell_type": "code",
   "execution_count": null,
   "id": "0d1376fd",
   "metadata": {},
   "outputs": [],
   "source": [
    "<a id='Refer_to'></a>\n",
    "### Refer_to"
   ]
  },
  {
   "cell_type": "code",
   "execution_count": null,
   "id": "1d1bbd92",
   "metadata": {},
   "outputs": [],
   "source": [
    "<a id='Refer_to'></a>\n",
    "### Refer_to"
   ]
  },
  {
   "cell_type": "code",
   "execution_count": null,
   "id": "131a621e",
   "metadata": {},
   "outputs": [],
   "source": [
    "<a id='Refer_to'></a>\n",
    "### Refer_to"
   ]
  },
  {
   "cell_type": "code",
   "execution_count": null,
   "id": "2cc8e017",
   "metadata": {},
   "outputs": [],
   "source": [
    "<a id='Refer_to'></a>\n",
    "### Refer_to"
   ]
  },
  {
   "cell_type": "code",
   "execution_count": null,
   "id": "9e5e2138",
   "metadata": {},
   "outputs": [],
   "source": [
    "<a id='Refer_to'></a>\n",
    "### Refer_to"
   ]
  },
  {
   "cell_type": "code",
   "execution_count": null,
   "id": "f0a33f3c",
   "metadata": {},
   "outputs": [],
   "source": [
    "<a id='Refer_to'></a>\n",
    "### Refer_to"
   ]
  },
  {
   "cell_type": "code",
   "execution_count": null,
   "id": "dadbe1cb",
   "metadata": {},
   "outputs": [],
   "source": [
    "<a id='Refer_to'></a>\n",
    "### Refer_to"
   ]
  },
  {
   "cell_type": "code",
   "execution_count": null,
   "id": "c59d57f3",
   "metadata": {},
   "outputs": [],
   "source": [
    "<a id='Refer_to'></a>\n",
    "### Refer_to"
   ]
  },
  {
   "cell_type": "code",
   "execution_count": null,
   "id": "54baad05",
   "metadata": {},
   "outputs": [],
   "source": [
    "<a id='Refer_to'></a>\n",
    "### Refer_to"
   ]
  },
  {
   "cell_type": "code",
   "execution_count": null,
   "id": "7cdad2f0",
   "metadata": {},
   "outputs": [],
   "source": [
    "<a id='Refer_to'></a>\n",
    "### Refer_to"
   ]
  },
  {
   "cell_type": "code",
   "execution_count": null,
   "id": "4bbf6731",
   "metadata": {},
   "outputs": [],
   "source": [
    "<a id='Refer_to'></a>\n",
    "### Refer_to"
   ]
  },
  {
   "cell_type": "code",
   "execution_count": null,
   "id": "8c4fdc08",
   "metadata": {},
   "outputs": [],
   "source": [
    "<a id='Refer_to'></a>\n",
    "### Refer_to"
   ]
  },
  {
   "cell_type": "code",
   "execution_count": null,
   "id": "708f1034",
   "metadata": {},
   "outputs": [],
   "source": [
    "<a id='Refer_to'></a>\n",
    "### Refer_to"
   ]
  },
  {
   "cell_type": "code",
   "execution_count": null,
   "id": "f2bc33e4",
   "metadata": {},
   "outputs": [],
   "source": [
    "<a id='Refer_to'></a>\n",
    "### Refer_to"
   ]
  },
  {
   "cell_type": "code",
   "execution_count": null,
   "id": "e843d719",
   "metadata": {},
   "outputs": [],
   "source": [
    "<a id='Refer_to'></a>\n",
    "### Refer_to"
   ]
  },
  {
   "cell_type": "code",
   "execution_count": null,
   "id": "12444d8d",
   "metadata": {},
   "outputs": [],
   "source": [
    "<a id='Refer_to'></a>\n",
    "### Refer_to"
   ]
  },
  {
   "cell_type": "code",
   "execution_count": null,
   "id": "3a0e9458",
   "metadata": {},
   "outputs": [],
   "source": [
    "<a id='Refer_to'></a>\n",
    "### Refer_to"
   ]
  },
  {
   "cell_type": "code",
   "execution_count": null,
   "id": "485cdbc6",
   "metadata": {},
   "outputs": [],
   "source": [
    "<a id='Refer_to'></a>\n",
    "### Refer_to"
   ]
  },
  {
   "cell_type": "code",
   "execution_count": null,
   "id": "a3ca55cf",
   "metadata": {},
   "outputs": [],
   "source": [
    "<a id='Refer_to'></a>\n",
    "### Refer_to"
   ]
  },
  {
   "cell_type": "code",
   "execution_count": null,
   "id": "d6db964b",
   "metadata": {},
   "outputs": [],
   "source": [
    "<a id='Refer_to'></a>\n",
    "### Refer_to"
   ]
  },
  {
   "cell_type": "code",
   "execution_count": null,
   "id": "1566ad4d",
   "metadata": {},
   "outputs": [],
   "source": [
    "<a id='Refer_to'></a>\n",
    "### Refer_to"
   ]
  },
  {
   "cell_type": "code",
   "execution_count": null,
   "id": "d56a1164",
   "metadata": {},
   "outputs": [],
   "source": [
    "<a id='Refer_to'></a>\n",
    "### Refer_to"
   ]
  },
  {
   "cell_type": "code",
   "execution_count": null,
   "id": "efbb81aa",
   "metadata": {},
   "outputs": [],
   "source": [
    "<a id='Refer_to'></a>\n",
    "### Refer_to"
   ]
  },
  {
   "cell_type": "code",
   "execution_count": null,
   "id": "0ba7ad75",
   "metadata": {},
   "outputs": [],
   "source": [
    "<a id='Refer_to'></a>\n",
    "### Refer_to"
   ]
  },
  {
   "cell_type": "code",
   "execution_count": null,
   "id": "e9f31ec1",
   "metadata": {},
   "outputs": [],
   "source": [
    "<a id='Refer_to'></a>\n",
    "### Refer_to"
   ]
  },
  {
   "cell_type": "code",
   "execution_count": null,
   "id": "2042d9b7",
   "metadata": {},
   "outputs": [],
   "source": [
    "<a id='Refer_to'></a>\n",
    "### Refer_to"
   ]
  },
  {
   "cell_type": "code",
   "execution_count": null,
   "id": "71d885e7",
   "metadata": {},
   "outputs": [],
   "source": [
    "<a id='Refer_to'></a>\n",
    "### Refer_to"
   ]
  },
  {
   "cell_type": "code",
   "execution_count": null,
   "id": "c5e65c8f",
   "metadata": {},
   "outputs": [],
   "source": [
    "<a id='Refer_to'></a>\n",
    "### Refer_to"
   ]
  },
  {
   "cell_type": "code",
   "execution_count": null,
   "id": "7bff8548",
   "metadata": {},
   "outputs": [],
   "source": [
    "<a id='Refer_to'></a>\n",
    "### Refer_to"
   ]
  },
  {
   "cell_type": "code",
   "execution_count": null,
   "id": "156024e8",
   "metadata": {},
   "outputs": [],
   "source": [
    "<a id='Refer_to'></a>\n",
    "### Refer_to"
   ]
  },
  {
   "cell_type": "code",
   "execution_count": null,
   "id": "04d6a25f",
   "metadata": {},
   "outputs": [],
   "source": [
    "<a id='Refer_to'></a>\n",
    "### Refer_to"
   ]
  },
  {
   "cell_type": "code",
   "execution_count": null,
   "id": "c402892b",
   "metadata": {},
   "outputs": [],
   "source": [
    "<a id='Refer_to'></a>\n",
    "### Refer_to"
   ]
  },
  {
   "cell_type": "code",
   "execution_count": null,
   "id": "ffe7dd9f",
   "metadata": {},
   "outputs": [],
   "source": [
    "<a id='Refer_to'></a>\n",
    "### Refer_to"
   ]
  },
  {
   "cell_type": "code",
   "execution_count": null,
   "id": "60cd0d2a",
   "metadata": {},
   "outputs": [],
   "source": [
    "<a id='Refer_to'></a>\n",
    "### Refer_to"
   ]
  },
  {
   "cell_type": "code",
   "execution_count": null,
   "id": "75869724",
   "metadata": {},
   "outputs": [],
   "source": [
    "<a id='Refer_to'></a>\n",
    "### Refer_to"
   ]
  },
  {
   "cell_type": "code",
   "execution_count": null,
   "id": "bb170d1c",
   "metadata": {},
   "outputs": [],
   "source": [
    "<a id='Refer_to'></a>\n",
    "### Refer_to"
   ]
  },
  {
   "cell_type": "code",
   "execution_count": null,
   "id": "8ab24b73",
   "metadata": {},
   "outputs": [],
   "source": [
    "<a id='Refer_to'></a>\n",
    "### Refer_to"
   ]
  },
  {
   "cell_type": "code",
   "execution_count": null,
   "id": "41f8b178",
   "metadata": {},
   "outputs": [],
   "source": [
    "<a id='Refer_to'></a>\n",
    "### Refer_to"
   ]
  },
  {
   "cell_type": "code",
   "execution_count": null,
   "id": "eb324b5d",
   "metadata": {},
   "outputs": [],
   "source": [
    "<a id='Refer_to'></a>\n",
    "### Refer_to"
   ]
  },
  {
   "cell_type": "code",
   "execution_count": null,
   "id": "f921d353",
   "metadata": {},
   "outputs": [],
   "source": [
    "<a id='Refer_to'></a>\n",
    "### Refer_to"
   ]
  },
  {
   "cell_type": "code",
   "execution_count": null,
   "id": "e5e6c0a8",
   "metadata": {},
   "outputs": [],
   "source": [
    "<a id='Refer_to'></a>\n",
    "### Refer_to"
   ]
  },
  {
   "cell_type": "code",
   "execution_count": null,
   "id": "cb8247f0",
   "metadata": {},
   "outputs": [],
   "source": [
    "<a id='Refer_to'></a>\n",
    "### Refer_to"
   ]
  },
  {
   "cell_type": "code",
   "execution_count": null,
   "id": "ade339b1",
   "metadata": {},
   "outputs": [],
   "source": [
    "<a id='Refer_to'></a>\n",
    "### Refer_to"
   ]
  },
  {
   "cell_type": "code",
   "execution_count": null,
   "id": "1f97fd8d",
   "metadata": {},
   "outputs": [],
   "source": [
    "<a id='Refer_to'></a>\n",
    "### Refer_to"
   ]
  }
 ],
 "metadata": {
  "kernelspec": {
   "display_name": "Python 3 (ipykernel)",
   "language": "python",
   "name": "python3"
  },
  "language_info": {
   "codemirror_mode": {
    "name": "ipython",
    "version": 3
   },
   "file_extension": ".py",
   "mimetype": "text/x-python",
   "name": "python",
   "nbconvert_exporter": "python",
   "pygments_lexer": "ipython3",
   "version": "3.9.7"
  }
 },
 "nbformat": 4,
 "nbformat_minor": 5
}
