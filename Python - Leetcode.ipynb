{
 "cells": [
  {
   "cell_type": "markdown",
   "id": "ff574f7d",
   "metadata": {},
   "source": [
    "## Table of Contents\n",
    "### Difficulty: Easy\n",
    "1.  <a href=\"#Two Sum\">Two Sum</a>\n",
    "<li><a href=\"#Palindrome Number\">Palindrome Number</a></li>\n",
    "<li><a href=\"#Roman to Integer\">Roman to Integer</a></li>\n",
    "<li><a href=\"#Longest Common Prefix\">Longest Common Prefix</a></li>\n",
    "<li><a href=\"#Valid Parentheses\">Valid Parentheses</a></li>\n",
    "<li><a href=\"#Merge Two Sorted Lists\">Merge Two Sorted Lists</a></li>\n",
    "<li><a href=\"#Remove Duplicates from Sorted Array\">Remove Duplicates from Sorted Array</a></li>\n",
    "<li><a href=\"#Remove Element\">Remove Element</a></li>\n",
    "<li><a href=\"#Search Insert Position\">Search Insert Position</a></li>\n",
    "<li><a href=\"#Length of Last Word\">Length of Last Word</a></li>\n",
    "<li><a href=\"#Plus One\">Plus One</a></li>\n",
    "<li><a href=\"#Add Binary\">Add Binary</a></li>\n",
    "<li><a href=\"#Sqrt(x)\">Sqrt(x)</a></li>\n",
    "<li><a href=\"#Climbing Stairs\">Climbing Stairs</a></li>\n",
    "<li><a href=\"#Remove Duplicates from Sorted List\">Remove Duplicates from Sorted List</a></li>\n",
    "<li><a href=\"#Merge Sorted Array\">Merge Sorted Array</a></li>\n",
    "<li><a href=\"#q_28\">28. Find the Index of the First Occurrence in a String</a></li>\n",
    "<li><a href=\"#bt_inorder_traversal\">Binary Tree Inorder Traversal</a></li>\n",
    "<li><a href=\"#Same_Tree\">Same Tree</a></li>\n",
    "<li><a href=\"#Symmetric_Tree\">Symmetric Tree</a></li>\n",
    "<li><a href=\"#Write_Here\">Write_Here</a></li>\n",
    "<li><a href=\"#Write_Here\">Write_Here</a></li>\n",
    "<li><a href=\"#Write_Here\">Write_Here</a></li>\n",
    "<li><a href=\"#Write_Here\">Write_Here</a></li>\n",
    "<li><a href=\"#Write_Here\">Write_Here</a></li>\n",
    "<li><a href=\"#Write_Here\">Write_Here</a></li>\n",
    "<li><a href=\"#Write_Here\">Write_Here</a></li>\n",
    "<li><a href=\"#Write_Here\">Write_Here</a></li>\n",
    "<li><a href=\"#Write_Here\">Write_Here</a></li>"
   ]
  },
  {
   "cell_type": "markdown",
   "id": "d469fe96",
   "metadata": {},
   "source": [
    "<a id='Two Sum'></a>\n",
    "### Two Sum"
   ]
  },
  {
   "cell_type": "code",
   "execution_count": 1,
   "id": "6195eab4",
   "metadata": {},
   "outputs": [],
   "source": [
    "def twoSum(nums, target):\n",
    "    idx1 = 0\n",
    "    idx2 = idx1 + 1\n",
    "    nums_size = len(nums)\n",
    "    while idx1 < nums_size - 1:\n",
    "        if nums[idx1] + nums[idx2] == target:\n",
    "            return [idx1, idx2]\n",
    "        else:\n",
    "            if idx2 == nums_size - 1:\n",
    "                idx1 = idx1 + 1\n",
    "                idx2 = idx1 + 1\n",
    "            else:\n",
    "                idx2 = idx2 + 1\n",
    "                \n",
    "            continue\n",
    "    return []"
   ]
  },
  {
   "cell_type": "code",
   "execution_count": 2,
   "id": "309d7c26",
   "metadata": {},
   "outputs": [
    {
     "name": "stdout",
     "output_type": "stream",
     "text": [
      "[0, 1]\n"
     ]
    }
   ],
   "source": [
    "print(twoSum([2,7,11,15], 9))"
   ]
  },
  {
   "cell_type": "code",
   "execution_count": 3,
   "id": "dc1cafba",
   "metadata": {},
   "outputs": [
    {
     "name": "stdout",
     "output_type": "stream",
     "text": [
      "[0, 1]\n"
     ]
    }
   ],
   "source": [
    "print(twoSum([3, 3], 6))"
   ]
  },
  {
   "cell_type": "code",
   "execution_count": 4,
   "id": "0a21322d",
   "metadata": {},
   "outputs": [
    {
     "name": "stdout",
     "output_type": "stream",
     "text": [
      "[1, 2]\n"
     ]
    }
   ],
   "source": [
    "print(twoSum([3, 2, 4], 6))"
   ]
  },
  {
   "cell_type": "code",
   "execution_count": 5,
   "id": "01d87263",
   "metadata": {},
   "outputs": [
    {
     "name": "stdout",
     "output_type": "stream",
     "text": [
      "[0, 2]\n"
     ]
    }
   ],
   "source": [
    "print(twoSum([3, 2, 3], 6))"
   ]
  },
  {
   "cell_type": "markdown",
   "id": "facaf11e",
   "metadata": {},
   "source": [
    "<a id='Palindrome Number'></a>\n",
    "### Palindrome Number\n"
   ]
  },
  {
   "cell_type": "code",
   "execution_count": 6,
   "id": "1f8d250f",
   "metadata": {},
   "outputs": [],
   "source": [
    "def isPalindrome(x):\n",
    "    x = str(x)\n",
    "    if x == x[::-1]:\n",
    "        return True\n",
    "    return False"
   ]
  },
  {
   "cell_type": "code",
   "execution_count": 7,
   "id": "f9891be7",
   "metadata": {},
   "outputs": [],
   "source": [
    "def isPalindrome(x):\n",
    "    x = str(x)\n",
    "    return x == x[::-1]"
   ]
  },
  {
   "cell_type": "code",
   "execution_count": 8,
   "id": "d45cf42b",
   "metadata": {},
   "outputs": [
    {
     "name": "stdout",
     "output_type": "stream",
     "text": [
      "121\n",
      "True\n"
     ]
    }
   ],
   "source": [
    "val = int(input())\n",
    "print(isPalindrome(val))"
   ]
  },
  {
   "cell_type": "markdown",
   "id": "b1ec9f12",
   "metadata": {},
   "source": [
    "<a id='Roman to Integer'></a>\n",
    "### Roman to Integer"
   ]
  },
  {
   "cell_type": "code",
   "execution_count": 9,
   "id": "ebc520d3",
   "metadata": {},
   "outputs": [],
   "source": [
    "def romanToInt(s):\n",
    "    roman_symbols = {'I':1, 'V':5, 'X':10, 'L':50, 'C':100, 'D':500, 'M':1000}\n",
    "    sub_roman = {'IV':4, 'IX':9, 'XL':40, 'XC':90, 'CD':400, 'CM':900}\n",
    "    num = 0\n",
    "    while len(s) >= 2:\n",
    "        if s[:2] in sub_roman.keys():\n",
    "            num = num + sub_roman.get(s[:2])\n",
    "            s = s[2:]\n",
    "        else:\n",
    "            num = num + roman_symbols.get(s[0])\n",
    "            s = s[1:]\n",
    "    \n",
    "    if s:\n",
    "        num = num + roman_symbols.get(s)\n",
    "    return num \n",
    "    "
   ]
  },
  {
   "cell_type": "code",
   "execution_count": 10,
   "id": "5934b80d",
   "metadata": {},
   "outputs": [
    {
     "name": "stdout",
     "output_type": "stream",
     "text": [
      "1476\n"
     ]
    }
   ],
   "source": [
    "print(romanToInt(\"MCDLXXVI\")) # 1476"
   ]
  },
  {
   "cell_type": "markdown",
   "id": "011c8fe2",
   "metadata": {},
   "source": [
    "<a id='Longest Common Prefix'></a>\n",
    "### Longest Common Prefix"
   ]
  },
  {
   "cell_type": "code",
   "execution_count": 11,
   "id": "29568392",
   "metadata": {},
   "outputs": [],
   "source": [
    "def longestCommonPrefix(strs):\n",
    "    '''\n",
    "    This function takes a list of strings and return the longest common prefix among these strings\n",
    "    '''\n",
    "    prefix = 0\n",
    "    check=False\n",
    "    strs_sorted = sorted(strs, key=lambda x:len(x))\n",
    "    print(strs_sorted)\n",
    "    while not check:\n",
    "        if strs_sorted[0] == \"\" or len(strs_sorted) == 1:\n",
    "            return strs_sorted[0]\n",
    "        else:\n",
    "            s0 = strs_sorted[0][prefix]\n",
    "        for s in strs_sorted[1:]:\n",
    "            if s != \"\":\n",
    "                if s[prefix] == s0:\n",
    "                    check = False\n",
    "                else:\n",
    "                    check = True\n",
    "                    break\n",
    "            else:\n",
    "                return \"\"\n",
    "            \n",
    "        if not check:\n",
    "            prefix = prefix + 1\n",
    "            \n",
    "        if prefix == len(strs_sorted[0]):\n",
    "            break\n",
    "            \n",
    "    if prefix == 0:\n",
    "        return \"\"\n",
    "    else:\n",
    "        return strs[0][:prefix]"
   ]
  },
  {
   "cell_type": "code",
   "execution_count": 12,
   "id": "f197315d",
   "metadata": {},
   "outputs": [
    {
     "name": "stdout",
     "output_type": "stream",
     "text": [
      "['flow', 'flower', 'flight']\n"
     ]
    },
    {
     "data": {
      "text/plain": [
       "'fl'"
      ]
     },
     "execution_count": 12,
     "metadata": {},
     "output_type": "execute_result"
    }
   ],
   "source": [
    "longestCommonPrefix(['flower', 'flow', 'flight'])"
   ]
  },
  {
   "cell_type": "code",
   "execution_count": 13,
   "id": "50566770",
   "metadata": {},
   "outputs": [],
   "source": [
    "def longestCommonPrefix(strs):\n",
    "    prefix = \"\"\n",
    "    size = len(sorted(strs, key=lambda x:len(x))[0])\n",
    "    \n",
    "    for idx in range(size):\n",
    "        demo = []\n",
    "        for s in strs:\n",
    "            demo.append(s[idx])\n",
    "        if len(set(demo)) == 1:\n",
    "            prefix += demo[0]\n",
    "            \n",
    "        else:\n",
    "            break\n",
    "            \n",
    "    return prefix"
   ]
  },
  {
   "cell_type": "code",
   "execution_count": 14,
   "id": "489b29ed",
   "metadata": {},
   "outputs": [
    {
     "data": {
      "text/plain": [
       "'fl'"
      ]
     },
     "execution_count": 14,
     "metadata": {},
     "output_type": "execute_result"
    }
   ],
   "source": [
    "longestCommonPrefix(['flower', 'flow', 'flight'])"
   ]
  },
  {
   "cell_type": "markdown",
   "id": "0079046d",
   "metadata": {},
   "source": [
    "<a id='Valid Parentheses'></a>\n",
    "### Valid Parentheses"
   ]
  },
  {
   "cell_type": "code",
   "execution_count": 15,
   "id": "704a4cf7",
   "metadata": {},
   "outputs": [],
   "source": [
    "def isValid(s):\n",
    "        if len(s) % 2 != 0:\n",
    "            return False\n",
    "\n",
    "        stack = []\n",
    "        for char in s:\n",
    "            if char in ['{', '(', '[']:\n",
    "                stack.append(char)\n",
    "            else:\n",
    "                if not stack:\n",
    "                    return False\n",
    "                left_brace = stack.pop()\n",
    "                if left_brace == '{' and char == '}':\n",
    "                    continue\n",
    "                elif left_brace == '(' and char == ')':\n",
    "                    continue\n",
    "                elif left_brace == '[' and char == ']':\n",
    "                    continue\n",
    "                else:\n",
    "                    return False\n",
    "                \n",
    "        if stack:\n",
    "            return False\n",
    "        return True"
   ]
  },
  {
   "cell_type": "code",
   "execution_count": 21,
   "id": "e7b50861",
   "metadata": {},
   "outputs": [],
   "source": [
    "def isValid(s):\n",
    "    if len(s) % 2 != 0:\n",
    "        return False\n",
    "    stack = []\n",
    "    for char in s:\n",
    "        if char in ['{', '(', '[']:\n",
    "            stack.append(char)\n",
    "        elif char == '}' and stack and stack[-1] == '{':\n",
    "            stack.pop()\n",
    "        elif char == ')' and stack and stack[-1] == '(':\n",
    "            stack.pop()\n",
    "        elif char == ']' and stack and stack[-1] == '[':\n",
    "            stack.pop()\n",
    "        else:\n",
    "            return False\n",
    "    \n",
    "    if stack:\n",
    "        return False\n",
    "    return True"
   ]
  },
  {
   "cell_type": "code",
   "execution_count": 22,
   "id": "b61f5f22",
   "metadata": {},
   "outputs": [
    {
     "name": "stdout",
     "output_type": "stream",
     "text": [
      "True\n",
      "True\n",
      "True\n",
      "True\n",
      "True\n",
      "False\n",
      "False\n"
     ]
    }
   ],
   "source": [
    "print(isValid('{}()[]'))\n",
    "print(isValid('{([])}'))\n",
    "print(isValid('{[]{}}'))\n",
    "print(isValid('{()}()'))\n",
    "print(isValid('[]{}()()'))\n",
    "print(isValid(\"((}}\"))\n",
    "print(isValid(\"()]\"))"
   ]
  },
  {
   "cell_type": "markdown",
   "id": "7c110952",
   "metadata": {},
   "source": [
    "<a id='Merge Two Sorted Lists'></a>\n",
    "### Merge Two Sorted Lists"
   ]
  },
  {
   "cell_type": "code",
   "execution_count": 64,
   "id": "7ea98b0d",
   "metadata": {},
   "outputs": [],
   "source": [
    "#Definition for singly-linked list.\n",
    "class ListNode:\n",
    "    def __init__(self, val=0, next=None):\n",
    "        self.val = val\n",
    "        self.next = next        "
   ]
  },
  {
   "cell_type": "code",
   "execution_count": 65,
   "id": "e7f11c3e",
   "metadata": {},
   "outputs": [],
   "source": [
    "def forward_linked_list(size):\n",
    "    head = None\n",
    "    last = None\n",
    "    \n",
    "    while size > 0:\n",
    "        val = int(input())\n",
    "        newNode = ListNode(val)\n",
    "        if head == None:\n",
    "            head = newNode\n",
    "            last = newNode\n",
    "        else:\n",
    "            last.next = newNode\n",
    "            last = newNode\n",
    "            \n",
    "        size = size - 1\n",
    "    return head"
   ]
  },
  {
   "cell_type": "code",
   "execution_count": 66,
   "id": "23f5d047",
   "metadata": {},
   "outputs": [],
   "source": [
    "def display_linked_list(head):\n",
    "    current = head\n",
    "    while current:\n",
    "        print(current.val, end=' ')\n",
    "        if current.next:\n",
    "            print(' --> ', end=' ')\n",
    "        current = current.next"
   ]
  },
  {
   "cell_type": "code",
   "execution_count": 67,
   "id": "adc0a0f7",
   "metadata": {},
   "outputs": [
    {
     "name": "stdout",
     "output_type": "stream",
     "text": [
      "1\n",
      "2\n",
      "4\n"
     ]
    }
   ],
   "source": [
    "list1 = forward_linked_list(3)"
   ]
  },
  {
   "cell_type": "code",
   "execution_count": 68,
   "id": "cc3c2e9a",
   "metadata": {},
   "outputs": [
    {
     "name": "stdout",
     "output_type": "stream",
     "text": [
      "1  -->  2  -->  4 "
     ]
    }
   ],
   "source": [
    "display_linked_list(list1)"
   ]
  },
  {
   "cell_type": "code",
   "execution_count": 69,
   "id": "31bca4a8",
   "metadata": {},
   "outputs": [
    {
     "name": "stdout",
     "output_type": "stream",
     "text": [
      "1\n",
      "3\n",
      "4\n"
     ]
    }
   ],
   "source": [
    "list2 = forward_linked_list(3)"
   ]
  },
  {
   "cell_type": "code",
   "execution_count": 70,
   "id": "382cb709",
   "metadata": {},
   "outputs": [
    {
     "name": "stdout",
     "output_type": "stream",
     "text": [
      "1  -->  3  -->  4 "
     ]
    }
   ],
   "source": [
    "display_linked_list(list2)"
   ]
  },
  {
   "cell_type": "code",
   "execution_count": 71,
   "id": "0b1a9ade",
   "metadata": {},
   "outputs": [],
   "source": [
    "def mergeTwoLists(list1, list2):\n",
    "    if list1 == None and list2:\n",
    "        return list2\n",
    "    elif list1 and list2 == None:\n",
    "        return list1\n",
    "    elif list1 == None and list2 == None:\n",
    "        return None\n",
    "    \n",
    "    # merge lists\n",
    "    new_list = []\n",
    "    current1 = list1\n",
    "    while current1:\n",
    "        new_list.append(current1.val)\n",
    "        current1 = current1.next\n",
    "        \n",
    "    current2 = list2\n",
    "    while current2:\n",
    "        new_list.append(current2.val)\n",
    "        current2 = current2.next\n",
    "        \n",
    "    # sort list\n",
    "    new_list = sorted(new_list)\n",
    "    head = None\n",
    "    last = None\n",
    "    for item in new_list:\n",
    "        newNode = ListNode(item)\n",
    "        if head == None:\n",
    "            head = newNode\n",
    "            last = newNode\n",
    "        else:\n",
    "            last.next = newNode\n",
    "            last = newNode\n",
    "    return head"
   ]
  },
  {
   "cell_type": "code",
   "execution_count": 72,
   "id": "7c04543a",
   "metadata": {},
   "outputs": [
    {
     "name": "stdout",
     "output_type": "stream",
     "text": [
      "1  -->  1  -->  2  -->  3  -->  4  -->  4 "
     ]
    }
   ],
   "source": [
    "newlist = mergeTwoLists(list1, list2)\n",
    "display_linked_list(newlist)"
   ]
  },
  {
   "cell_type": "markdown",
   "id": "f907ac10",
   "metadata": {},
   "source": [
    "<a id='Remove Duplicates from Sorted Array'></a>\n",
    "### Remove Duplicates from Sorted Array"
   ]
  },
  {
   "cell_type": "code",
   "execution_count": 124,
   "id": "0ffb81a6",
   "metadata": {},
   "outputs": [],
   "source": [
    "def removeDuplicates(nums):\n",
    "    idx = 1\n",
    "    while True:\n",
    "        if len(nums) >= 2:\n",
    "            if nums[idx] == nums[idx-1]:\n",
    "                nums.pop(idx)\n",
    "                if idx > 1:\n",
    "                    idx = idx - 1\n",
    "            elif idx < len(nums) - 1:\n",
    "                idx = idx + 1\n",
    "                continue\n",
    "            else:\n",
    "                break\n",
    "        else:\n",
    "            break\n",
    "    return len(nums)"
   ]
  },
  {
   "cell_type": "code",
   "execution_count": 176,
   "id": "13f23b0f",
   "metadata": {},
   "outputs": [],
   "source": [
    "def removeDuplicates(nums):\n",
    "    last = 0\n",
    "    for i in range(1, len(nums)):\n",
    "        if nums[i] == nums[i - 1] or nums[i - 1] == '_' and nums[i] == nums[last]:\n",
    "            nums[i] = '_'\n",
    "        elif nums[i - 1] == '_':\n",
    "            nums[last + 1] = nums[i]\n",
    "            nums[i] = '_'\n",
    "            last = last + 1\n",
    "        else:\n",
    "            last = last + 1\n",
    "        \n",
    "    for _ in range(nums.count('_')):\n",
    "        nums.remove('_')\n",
    "    return len(nums)"
   ]
  },
  {
   "cell_type": "code",
   "execution_count": 190,
   "id": "d428b212",
   "metadata": {},
   "outputs": [],
   "source": [
    "def removeDuplicates(nums):\n",
    "    for i in range(len(nums)):\n",
    "        try:\n",
    "            for _ in range(nums.count(nums[i]) - 1):\n",
    "                nums.remove(nums[i])\n",
    "        except:\n",
    "            break\n",
    "            \n",
    "    return len(nums)"
   ]
  },
  {
   "cell_type": "code",
   "execution_count": 201,
   "id": "87d90da6",
   "metadata": {},
   "outputs": [],
   "source": [
    "def removeDuplicates(nums):\n",
    "    last = 1\n",
    "    for idx in range(len(nums) - 1):\n",
    "        if nums[idx] != nums[idx+1]:\n",
    "            nums[last] = nums[idx+1]\n",
    "            last += 1\n",
    "    return last"
   ]
  },
  {
   "cell_type": "markdown",
   "id": "7c2c5538",
   "metadata": {},
   "source": [
    "<a id='Remove Element'></a>\n",
    "### Remove Element"
   ]
  },
  {
   "cell_type": "code",
   "execution_count": 10,
   "id": "476892f6",
   "metadata": {},
   "outputs": [],
   "source": [
    "def removeElement(nums, val):\n",
    "    for _ in range(nums.count(val)):\n",
    "        nums.remove(val)\n",
    "    return len(nums)"
   ]
  },
  {
   "cell_type": "markdown",
   "id": "c938c09a",
   "metadata": {},
   "source": [
    "<a id='Search Insert Position'></a>\n",
    "### Search Insert Position"
   ]
  },
  {
   "cell_type": "code",
   "execution_count": 44,
   "id": "60decd38",
   "metadata": {},
   "outputs": [],
   "source": [
    "def searchInsert(nums, target):\n",
    "    for idx in range(len(nums)):\n",
    "        if target > nums[idx]:\n",
    "            continue\n",
    "        else:\n",
    "            return idx\n",
    "            \n",
    "    return idx + 1"
   ]
  },
  {
   "cell_type": "markdown",
   "id": "d63207c6",
   "metadata": {},
   "source": [
    "<a id='Length of Last Word'></a>\n",
    "### Length of Last Word"
   ]
  },
  {
   "cell_type": "code",
   "execution_count": 14,
   "id": "b38df8ad",
   "metadata": {},
   "outputs": [],
   "source": [
    "def lengthOfLastWord(s):\n",
    "    return len(s.split()[-1])"
   ]
  },
  {
   "cell_type": "markdown",
   "id": "e7cefc0a",
   "metadata": {},
   "source": [
    "<a id='Plus One'></a>\n",
    "### Plus One"
   ]
  },
  {
   "cell_type": "code",
   "execution_count": 74,
   "id": "5a12678f",
   "metadata": {},
   "outputs": [],
   "source": [
    "def plusOne(digits):\n",
    "    num = int(''.join([str(digit) for digit in digits])) + 1\n",
    "    digits = []\n",
    "    for digit in str(num):\n",
    "        digits.append(int(digit))\n",
    "    return digits"
   ]
  },
  {
   "cell_type": "code",
   "execution_count": 72,
   "id": "8fdf2619",
   "metadata": {},
   "outputs": [],
   "source": [
    "def plusOne(digits):\n",
    "    num = int(''.join([str(digit) for digit in digits])) + 1\n",
    "    return [int(digit) for digit in str(num)]"
   ]
  },
  {
   "cell_type": "markdown",
   "id": "794a8731",
   "metadata": {},
   "source": [
    "<a id='Add Binary'></a>\n",
    "### Add Binary"
   ]
  },
  {
   "cell_type": "code",
   "execution_count": 3,
   "id": "6d439c87",
   "metadata": {},
   "outputs": [],
   "source": [
    "def addBinary(a, b):\n",
    "        idx_a = 0\n",
    "        idx_b = 0\n",
    "        final_res = ''\n",
    "        remind = 0\n",
    "        a = a[::-1]\n",
    "        b = b[::-1]\n",
    "\n",
    "        def get_res(num_a=0, num_b=0, remind=0):\n",
    "            val = int(num_a) + int(num_b) + remind\n",
    "            if val > 1:\n",
    "                remind = 1\n",
    "            else:\n",
    "                remind = 0\n",
    "            return str(val % 2), remind\n",
    "\n",
    "        while idx_a < len(a) or idx_b < len(b):\n",
    "            res = ''\n",
    "            if idx_a < len(a) and idx_b < len(b):\n",
    "                res, remind = get_res(a[idx_a], b[idx_b], remind)\n",
    "                final_res = res + final_res\n",
    "                idx_a += 1\n",
    "                idx_b += 1\n",
    "            elif idx_a < len(a) and idx_b >= len(b):\n",
    "                res, remind = get_res(num_a=a[idx_a], remind=remind)\n",
    "                final_res = res + final_res\n",
    "                idx_a += 1\n",
    "            else:\n",
    "                res, remind = get_res(num_b = b[idx_b], remind=remind)\n",
    "                final_res = res + final_res\n",
    "                idx_b += 1\n",
    "\n",
    "        if remind == 1:\n",
    "            final_res = '1' + final_res\n",
    "        return final_res"
   ]
  },
  {
   "cell_type": "code",
   "execution_count": null,
   "id": "f10f1b3c",
   "metadata": {},
   "outputs": [],
   "source": [
    "def addBinary(a, b):\n",
    "    idx_a = len(a) - 1\n",
    "    idx_b = len(b) - 1\n",
    "    final_res = ''\n",
    "    carry = 0\n",
    "\n",
    "    while idx_a >= 0 or idx_b >= 0:\n",
    "            sum = carry\n",
    "            if idx_a >= 0:\n",
    "                sum += int(a[idx_a])\n",
    "            if idx_b >= 0:\n",
    "                sum += int(b[idx_b])\n",
    "\n",
    "            idx_a, idx_b = idx_a - 1, idx_b - 1\n",
    "\n",
    "            carry = 1 if sum > 1 else 0\n",
    "            final_res += str(sum % 2)\n",
    "\n",
    "    if carry != 0:\n",
    "        final_res += str(carry)\n",
    "    return final_res[::-1]"
   ]
  },
  {
   "cell_type": "markdown",
   "id": "daef9930",
   "metadata": {},
   "source": [
    "<a id='Sqrt(x)'></a>\n",
    "### Sqrt(x)"
   ]
  },
  {
   "cell_type": "code",
   "execution_count": null,
   "id": "4123677d",
   "metadata": {},
   "outputs": [],
   "source": [
    "# using Newton Raphson Method\n",
    "\n",
    "def mySqrt(x):\n",
    "    x_0 = 1\n",
    "    while True:\n",
    "        x_1 = x_0 - ((x_0**2 - x)/(2 * x_0))\n",
    "        if abs(x_1 - x_0) < 1e-5:\n",
    "            break\n",
    "        x_0 = x_1\n",
    "    return int(x_1)"
   ]
  },
  {
   "cell_type": "markdown",
   "id": "6dba2b74",
   "metadata": {},
   "source": [
    "<a id='Climbing Stairs'></a>\n",
    "### Climbing Stairs"
   ]
  },
  {
   "cell_type": "code",
   "execution_count": null,
   "id": "a81c10fc",
   "metadata": {},
   "outputs": [],
   "source": [
    "def climbStairs(n):\n",
    "    if n == 1:\n",
    "        return 1\n",
    "    if n == 2:\n",
    "        return 2\n",
    "    if n == 3:\n",
    "        return 3\n",
    "    \n",
    "    res = [2, 3, 0]\n",
    "        \n",
    "    for _ in range(n-3):\n",
    "        res[2] = res[0] + res[1]\n",
    "        res[0] = res[1]\n",
    "        res[1] = res[2]\n",
    "    return res[2]"
   ]
  },
  {
   "cell_type": "markdown",
   "id": "e532fecc",
   "metadata": {},
   "source": [
    "<a id='Remove Duplicates from Sorted List'></a>\n",
    "### Remove Duplicates from Sorted List"
   ]
  },
  {
   "cell_type": "code",
   "execution_count": null,
   "id": "dd17aa28",
   "metadata": {},
   "outputs": [],
   "source": [
    "    \"\"\"head: head of sorted linked list\n",
    "    return linked list with no duplicates\"\"\"\n",
    "    if head == None:\n",
    "        return head\n",
    "    \n",
    "    newNode = ListNode(head.val)\n",
    "    newlist = newNode\n",
    "    last = newNode\n",
    "    current = head.next\n",
    "    while current != None:\n",
    "        if current.val != last.val:\n",
    "            newNode = ListNode(current.val)\n",
    "            last.next = newNode\n",
    "            last = newNode\n",
    "        current = current.next\n",
    "    return newlist"
   ]
  },
  {
   "cell_type": "markdown",
   "id": "cd1a51e6-a405-4167-884a-919f70f70091",
   "metadata": {},
   "source": [
    "<a id='Merge Sorted Array'></a>\n",
    "### Merge Sorted Array"
   ]
  },
  {
   "cell_type": "code",
   "execution_count": 33,
   "id": "e52f3d00-a51d-482a-83c1-cd25ab699ea6",
   "metadata": {},
   "outputs": [],
   "source": [
    "def merge(nums1, m, nums2, n):\n",
    "    for idx, val in enumerate(nums2):\n",
    "        nums1[m+idx] = val\n",
    "    nums1.sort()"
   ]
  },
  {
   "cell_type": "markdown",
   "id": "c4db9445-141a-4778-ae04-056c26626696",
   "metadata": {},
   "source": [
    "<a id='q_28'></a>\n",
    "### 28. Find the Index of the First Occurrence in a String"
   ]
  },
  {
   "cell_type": "code",
   "execution_count": 5,
   "id": "40f644c2-43a1-4c31-b5ef-fb2e081e45c7",
   "metadata": {},
   "outputs": [],
   "source": [
    "def strStr(haystack, needle):\n",
    "    \"\"\"\n",
    "    :type haystack: str\n",
    "    :type needle: str\n",
    "    :rtype: int\n",
    "    \"\"\"\n",
    "    return haystack.find(needle)"
   ]
  },
  {
   "cell_type": "code",
   "execution_count": 6,
   "id": "d34893b8-8829-44e2-bbfe-f669bb871a02",
   "metadata": {},
   "outputs": [],
   "source": [
    "# test\n",
    "haystack = \"sadbutsad\" \n",
    "needle = \"sad\"\n",
    "assert strStr(haystack, needle) == 0"
   ]
  },
  {
   "cell_type": "code",
   "execution_count": 7,
   "id": "63cd4c90-64a1-4113-837a-14e0b5517a82",
   "metadata": {},
   "outputs": [],
   "source": [
    "haystack = \"leetcode\" \n",
    "needle = \"leeto\"\n",
    "assert strStr(haystack, needle) == -1"
   ]
  },
  {
   "cell_type": "markdown",
   "id": "5fa68080-dc8a-448c-8ba0-a63c0740baa6",
   "metadata": {},
   "source": [
    "<a id='bt_inorder_traversal'></a>\n",
    "### Binary Tree Inorder Traversal"
   ]
  },
  {
   "cell_type": "code",
   "execution_count": 1,
   "id": "4d7acd7a-9f2b-432f-a8c6-75a835d15690",
   "metadata": {},
   "outputs": [],
   "source": [
    "# Definition for a binary tree node.\n",
    "class TreeNode:\n",
    "    def __init__(self, val=0, left=None, right=None):\n",
    "     self.val = val\n",
    "     self.left = left\n",
    "     self.right = right"
   ]
  },
  {
   "cell_type": "code",
   "execution_count": 24,
   "id": "3404d983-bebc-4750-99ad-5fb086814b46",
   "metadata": {},
   "outputs": [],
   "source": [
    "# inorderTraversal (left - root - right)\n",
    "def inorderTraversal(root):\n",
    "    result = []\n",
    "    if not root:\n",
    "        return []\n",
    "    result += inorderTraversal(root.left)\n",
    "    result.append(root.val)\n",
    "    result += inorderTraversal(root.right)\n",
    "    return result"
   ]
  },
  {
   "cell_type": "code",
   "execution_count": 25,
   "id": "c206bec1-3099-4b97-91cf-f891e2ef485c",
   "metadata": {},
   "outputs": [
    {
     "data": {
      "text/plain": [
       "[1, 3, 2]"
      ]
     },
     "execution_count": 25,
     "metadata": {},
     "output_type": "execute_result"
    }
   ],
   "source": [
    "root = TreeNode(val=1, right = TreeNode(val=2, left=TreeNode(val=3)))\n",
    "inorderTraversal(root)"
   ]
  },
  {
   "cell_type": "code",
   "execution_count": 27,
   "id": "01313c93-c667-4f7b-a368-10b3b7f88839",
   "metadata": {},
   "outputs": [
    {
     "data": {
      "text/plain": [
       "[]"
      ]
     },
     "execution_count": 27,
     "metadata": {},
     "output_type": "execute_result"
    }
   ],
   "source": [
    "inorderTraversal(None)"
   ]
  },
  {
   "cell_type": "code",
   "execution_count": 28,
   "id": "71bfd5ad-b00b-463e-a57e-d7084a08baff",
   "metadata": {},
   "outputs": [
    {
     "data": {
      "text/plain": [
       "[1]"
      ]
     },
     "execution_count": 28,
     "metadata": {},
     "output_type": "execute_result"
    }
   ],
   "source": [
    "root = TreeNode(val=1)\n",
    "inorderTraversal(root)"
   ]
  },
  {
   "cell_type": "markdown",
   "id": "c8ae9f60-0f28-4fc6-9c98-a6071e98277d",
   "metadata": {},
   "source": [
    "<a id='Same_Tree'></a>\n",
    "### Same Tree"
   ]
  },
  {
   "cell_type": "code",
   "execution_count": 25,
   "id": "b849f04f-ce9c-4647-95c5-54266fcb3a70",
   "metadata": {},
   "outputs": [],
   "source": [
    "class TreeNode:\n",
    "    def __init__(self, val=0, left=None, right=None):\n",
    "        self.val = val\n",
    "        self.left = left\n",
    "        self.right = right"
   ]
  },
  {
   "cell_type": "code",
   "execution_count": 47,
   "id": "5d1cd32b-3e7c-4488-bb8d-a683625b402e",
   "metadata": {},
   "outputs": [],
   "source": [
    "def isSameTree(p, q) -> bool:\n",
    "    if not p and not q:\n",
    "        return True\n",
    "    if not p or not q:\n",
    "        return False\n",
    "\n",
    "    # check the root \n",
    "    if p.val == q.val:\n",
    "        # check the left and the right subtrees if the roots are equal\n",
    "        return isSameTree(p.left, q.left) and isSameTree(p.right, q.right)\n",
    "    return False"
   ]
  },
  {
   "cell_type": "code",
   "execution_count": 49,
   "id": "631475cc-dfb8-4a08-b50a-cf2367e013e0",
   "metadata": {},
   "outputs": [
    {
     "data": {
      "text/plain": [
       "False"
      ]
     },
     "execution_count": 49,
     "metadata": {},
     "output_type": "execute_result"
    }
   ],
   "source": [
    "n1 = TreeNode(val=1, right = TreeNode(val=3), left=TreeNode(val=2))\n",
    "n2 = TreeNode(val=6, right = TreeNode(val=3), left=TreeNode(val=2))\n",
    "\n",
    "isSameTree(n1, n2)"
   ]
  },
  {
   "cell_type": "markdown",
   "id": "2f2dd587-b839-414b-b85f-52133f0da25a",
   "metadata": {},
   "source": [
    "<a id='Symmetric_Tree'></a>\n",
    "### Symmetric Tree"
   ]
  },
  {
   "attachments": {
    "5cc6baab-bde3-4e2c-acf8-7efe04c16b54.png": {
     "image/png": "[encoded data removed]"
    }
   },
   "cell_type": "markdown",
   "id": "23eabe4d-d330-4fbe-8e08-85458c5d516c",
   "metadata": {},
   "source": [
    "![image.png](attachment:5cc6baab-bde3-4e2c-acf8-7efe04c16b54.png)"
   ]
  },
  {
   "cell_type": "code",
   "execution_count": 4,
   "id": "4f1cc7cd-322f-4851-9a28-5e79097b13b1",
   "metadata": {},
   "outputs": [],
   "source": [
    "class TreeNode:\n",
    "    def __init__(self, val=0, left=None, right=None):\n",
    "        self.val = val\n",
    "        self.left = left\n",
    "        self.right = right"
   ]
  },
  {
   "cell_type": "code",
   "execution_count": 57,
   "id": "c5b62b81-cda1-4814-a6bf-2810e4ca0ebc",
   "metadata": {},
   "outputs": [],
   "source": [
    "def isMirror(left, right):\n",
    "    if not left and not right:\n",
    "        return True\n",
    "    if not left or not right:\n",
    "        return False\n",
    "    return left.val == right.val and isMirror(left.left, right.right) and isMirror(left.right, right.left)\n",
    "    \n",
    "def isSymmetric(root) -> bool:\n",
    "    if not root:\n",
    "        return True\n",
    "    return isMirror(root.left, root.right)"
   ]
  },
  {
   "cell_type": "code",
   "execution_count": 66,
   "id": "ba795e79-d80f-4c29-bf4d-c9ffc8dba429",
   "metadata": {},
   "outputs": [],
   "source": [
    "root = TreeNode(val=1, left=TreeNode(val=2, right=TreeNode(val=4)), \n",
    "                       right=TreeNode(val=2, right=TreeNode(val=3)))"
   ]
  },
  {
   "cell_type": "code",
   "execution_count": 67,
   "id": "81bf8414-525e-4670-a633-a14dd6a8ca93",
   "metadata": {},
   "outputs": [
    {
     "data": {
      "text/plain": [
       "False"
      ]
     },
     "execution_count": 67,
     "metadata": {},
     "output_type": "execute_result"
    }
   ],
   "source": [
    "isSymmetric(root)"
   ]
  },
  {
   "cell_type": "code",
   "execution_count": null,
   "id": "dadbe1cb",
   "metadata": {},
   "outputs": [],
   "source": [
    "<a id='Refer_to'></a>\n",
    "### Refer_to"
   ]
  },
  {
   "cell_type": "code",
   "execution_count": null,
   "id": "c59d57f3",
   "metadata": {},
   "outputs": [],
   "source": [
    "<a id='Refer_to'></a>\n",
    "### Refer_to"
   ]
  },
  {
   "cell_type": "code",
   "execution_count": null,
   "id": "54baad05",
   "metadata": {},
   "outputs": [],
   "source": [
    "<a id='Refer_to'></a>\n",
    "### Refer_to"
   ]
  },
  {
   "cell_type": "code",
   "execution_count": null,
   "id": "7cdad2f0",
   "metadata": {},
   "outputs": [],
   "source": [
    "<a id='Refer_to'></a>\n",
    "### Refer_to"
   ]
  },
  {
   "cell_type": "code",
   "execution_count": null,
   "id": "4bbf6731",
   "metadata": {},
   "outputs": [],
   "source": [
    "<a id='Refer_to'></a>\n",
    "### Refer_to"
   ]
  },
  {
   "cell_type": "code",
   "execution_count": null,
   "id": "8c4fdc08",
   "metadata": {},
   "outputs": [],
   "source": [
    "<a id='Refer_to'></a>\n",
    "### Refer_to"
   ]
  },
  {
   "cell_type": "code",
   "execution_count": null,
   "id": "708f1034",
   "metadata": {},
   "outputs": [],
   "source": [
    "<a id='Refer_to'></a>\n",
    "### Refer_to"
   ]
  },
  {
   "cell_type": "code",
   "execution_count": null,
   "id": "f2bc33e4",
   "metadata": {},
   "outputs": [],
   "source": [
    "<a id='Refer_to'></a>\n",
    "### Refer_to"
   ]
  },
  {
   "cell_type": "code",
   "execution_count": null,
   "id": "e843d719",
   "metadata": {},
   "outputs": [],
   "source": [
    "<a id='Refer_to'></a>\n",
    "### Refer_to"
   ]
  },
  {
   "cell_type": "code",
   "execution_count": null,
   "id": "12444d8d",
   "metadata": {},
   "outputs": [],
   "source": [
    "<a id='Refer_to'></a>\n",
    "### Refer_to"
   ]
  },
  {
   "cell_type": "code",
   "execution_count": null,
   "id": "3a0e9458",
   "metadata": {},
   "outputs": [],
   "source": [
    "<a id='Refer_to'></a>\n",
    "### Refer_to"
   ]
  },
  {
   "cell_type": "code",
   "execution_count": null,
   "id": "485cdbc6",
   "metadata": {},
   "outputs": [],
   "source": [
    "<a id='Refer_to'></a>\n",
    "### Refer_to"
   ]
  },
  {
   "cell_type": "code",
   "execution_count": null,
   "id": "a3ca55cf",
   "metadata": {},
   "outputs": [],
   "source": [
    "<a id='Refer_to'></a>\n",
    "### Refer_to"
   ]
  },
  {
   "cell_type": "code",
   "execution_count": null,
   "id": "d6db964b",
   "metadata": {},
   "outputs": [],
   "source": [
    "<a id='Refer_to'></a>\n",
    "### Refer_to"
   ]
  },
  {
   "cell_type": "code",
   "execution_count": null,
   "id": "1566ad4d",
   "metadata": {},
   "outputs": [],
   "source": [
    "<a id='Refer_to'></a>\n",
    "### Refer_to"
   ]
  },
  {
   "cell_type": "code",
   "execution_count": null,
   "id": "d56a1164",
   "metadata": {},
   "outputs": [],
   "source": [
    "<a id='Refer_to'></a>\n",
    "### Refer_to"
   ]
  },
  {
   "cell_type": "code",
   "execution_count": null,
   "id": "efbb81aa",
   "metadata": {},
   "outputs": [],
   "source": [
    "<a id='Refer_to'></a>\n",
    "### Refer_to"
   ]
  },
  {
   "cell_type": "code",
   "execution_count": null,
   "id": "0ba7ad75",
   "metadata": {},
   "outputs": [],
   "source": [
    "<a id='Refer_to'></a>\n",
    "### Refer_to"
   ]
  },
  {
   "cell_type": "code",
   "execution_count": null,
   "id": "e9f31ec1",
   "metadata": {},
   "outputs": [],
   "source": [
    "<a id='Refer_to'></a>\n",
    "### Refer_to"
   ]
  },
  {
   "cell_type": "code",
   "execution_count": null,
   "id": "2042d9b7",
   "metadata": {},
   "outputs": [],
   "source": [
    "<a id='Refer_to'></a>\n",
    "### Refer_to"
   ]
  },
  {
   "cell_type": "code",
   "execution_count": null,
   "id": "71d885e7",
   "metadata": {},
   "outputs": [],
   "source": [
    "<a id='Refer_to'></a>\n",
    "### Refer_to"
   ]
  },
  {
   "cell_type": "code",
   "execution_count": null,
   "id": "c5e65c8f",
   "metadata": {},
   "outputs": [],
   "source": [
    "<a id='Refer_to'></a>\n",
    "### Refer_to"
   ]
  },
  {
   "cell_type": "code",
   "execution_count": null,
   "id": "7bff8548",
   "metadata": {},
   "outputs": [],
   "source": [
    "<a id='Refer_to'></a>\n",
    "### Refer_to"
   ]
  },
  {
   "cell_type": "code",
   "execution_count": null,
   "id": "156024e8",
   "metadata": {},
   "outputs": [],
   "source": [
    "<a id='Refer_to'></a>\n",
    "### Refer_to"
   ]
  },
  {
   "cell_type": "code",
   "execution_count": null,
   "id": "04d6a25f",
   "metadata": {},
   "outputs": [],
   "source": [
    "<a id='Refer_to'></a>\n",
    "### Refer_to"
   ]
  },
  {
   "cell_type": "code",
   "execution_count": null,
   "id": "c402892b",
   "metadata": {},
   "outputs": [],
   "source": [
    "<a id='Refer_to'></a>\n",
    "### Refer_to"
   ]
  },
  {
   "cell_type": "code",
   "execution_count": null,
   "id": "ffe7dd9f",
   "metadata": {},
   "outputs": [],
   "source": [
    "<a id='Refer_to'></a>\n",
    "### Refer_to"
   ]
  },
  {
   "cell_type": "code",
   "execution_count": null,
   "id": "60cd0d2a",
   "metadata": {},
   "outputs": [],
   "source": [
    "<a id='Refer_to'></a>\n",
    "### Refer_to"
   ]
  },
  {
   "cell_type": "code",
   "execution_count": null,
   "id": "75869724",
   "metadata": {},
   "outputs": [],
   "source": [
    "<a id='Refer_to'></a>\n",
    "### Refer_to"
   ]
  },
  {
   "cell_type": "code",
   "execution_count": null,
   "id": "bb170d1c",
   "metadata": {},
   "outputs": [],
   "source": [
    "<a id='Refer_to'></a>\n",
    "### Refer_to"
   ]
  },
  {
   "cell_type": "code",
   "execution_count": null,
   "id": "8ab24b73",
   "metadata": {},
   "outputs": [],
   "source": [
    "<a id='Refer_to'></a>\n",
    "### Refer_to"
   ]
  },
  {
   "cell_type": "code",
   "execution_count": null,
   "id": "41f8b178",
   "metadata": {},
   "outputs": [],
   "source": [
    "<a id='Refer_to'></a>\n",
    "### Refer_to"
   ]
  },
  {
   "cell_type": "code",
   "execution_count": null,
   "id": "eb324b5d",
   "metadata": {},
   "outputs": [],
   "source": [
    "<a id='Refer_to'></a>\n",
    "### Refer_to"
   ]
  },
  {
   "cell_type": "code",
   "execution_count": null,
   "id": "f921d353",
   "metadata": {},
   "outputs": [],
   "source": [
    "<a id='Refer_to'></a>\n",
    "### Refer_to"
   ]
  },
  {
   "cell_type": "code",
   "execution_count": null,
   "id": "e5e6c0a8",
   "metadata": {},
   "outputs": [],
   "source": [
    "<a id='Refer_to'></a>\n",
    "### Refer_to"
   ]
  },
  {
   "cell_type": "code",
   "execution_count": null,
   "id": "cb8247f0",
   "metadata": {},
   "outputs": [],
   "source": [
    "<a id='Refer_to'></a>\n",
    "### Refer_to"
   ]
  },
  {
   "cell_type": "code",
   "execution_count": null,
   "id": "ade339b1",
   "metadata": {},
   "outputs": [],
   "source": [
    "<a id='Refer_to'></a>\n",
    "### Refer_to"
   ]
  },
  {
   "cell_type": "code",
   "execution_count": null,
   "id": "1f97fd8d",
   "metadata": {},
   "outputs": [],
   "source": [
    "<a id='Refer_to'></a>\n",
    "### Refer_to"
   ]
  }
 ],
 "metadata": {
  "kernelspec": {
   "display_name": "Python 3 (ipykernel)",
   "language": "python",
   "name": "python3"
  },
  "language_info": {
   "codemirror_mode": {
    "name": "ipython",
    "version": 3
   },
   "file_extension": ".py",
   "mimetype": "text/x-python",
   "name": "python",
   "nbconvert_exporter": "python",
   "pygments_lexer": "ipython3",
   "version": "3.11.7"
  }
 },
 "nbformat": 4,
 "nbformat_minor": 5
}
