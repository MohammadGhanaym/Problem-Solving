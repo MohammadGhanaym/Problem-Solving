{
 "cells": [
  {
   "cell_type": "markdown",
   "id": "0b09bc99-592e-42c0-bc85-a4331e79b807",
   "metadata": {},
   "source": [
    "# LeetCode SQL 50\n",
    "\n",
    "<li><a href=\"#Recyclable_and_Low_Fat_Products\">Recyclable_and_Low_Fat_Products</a></li>\n",
    "<li><a href=\"#Find_Customer_Referee\">Find_Customer_Referee</a></li>\n",
    "<li><a href=\"#Big_Countries\">Big_Countries</a></li>\n",
    "<li><a href=\"#Article_Views_I\">Article_Views_I</a></li>\n",
    "<li><a href=\"#Invalid_Tweets\">Invalid_Tweets</a></li>\n",
    "<li><a href=\"#Write_Here\">Write_Here</a></li>\n",
    "<li><a href=\"#Write_Here\">Write_Here</a></li>\n",
    "<li><a href=\"#Write_Here\">Write_Here</a></li>\n",
    "<li><a href=\"#Write_Here\">Write_Here</a></li>\n",
    "<li><a href=\"#Write_Here\">Write_Here</a></li>"
   ]
  },
  {
   "cell_type": "code",
   "execution_count": 27,
   "id": "2aec4ac0-a54f-47fd-9d84-fa779558b00e",
   "metadata": {},
   "outputs": [
    {
     "name": "stdin",
     "output_type": "stream",
     "text": [
      " Invalid Tweets\n"
     ]
    },
    {
     "data": {
      "text/plain": [
       "'Invalid_Tweets'"
      ]
     },
     "execution_count": 27,
     "metadata": {},
     "output_type": "execute_result"
    }
   ],
   "source": [
    "input().replace(' ', '_')"
   ]
  },
  {
   "cell_type": "markdown",
   "id": "de2daad4-edfe-442d-a3f6-bd50590c1dc6",
   "metadata": {},
   "source": [
    "<a id='Recyclable_and_Low_Fat_Products'></a>\n",
    "# Recyclable_and_Low_Fat_Products"
   ]
  },
  {
   "cell_type": "markdown",
   "id": "593617d3-dac7-4568-a47e-8cc8835dbcc0",
   "metadata": {},
   "source": [
    "```sql\n",
    "/* Write your T-SQL query statement below */\n",
    "SELECT product_id\n",
    "FROM Products\n",
    "WHERE low_fats = 'Y' AND recyclable = 'Y'\n",
    "```"
   ]
  },
  {
   "cell_type": "markdown",
   "id": "382ea265-8af4-48e8-ad86-62acf56e9cbc",
   "metadata": {},
   "source": [
    "<a id='Find_Customer_Referee'></a>\n",
    "# Find_Customer_Referee"
   ]
  },
  {
   "cell_type": "markdown",
   "id": "157aa9e9-04b5-4609-afec-2bfd035436d1",
   "metadata": {},
   "source": [
    "```sql\n",
    "/* Write your T-SQL query statement below */\n",
    "SELECT name\n",
    "FROM Customer\n",
    "WHERE referee_id != 2 OR referee_id IS NULL\n",
    "```"
   ]
  },
  {
   "cell_type": "markdown",
   "id": "98d3e6c0-6c76-4295-8aa9-f774b0b61afb",
   "metadata": {},
   "source": [
    "<a id='Big_Countries'></a>\n",
    "# Big_Countries"
   ]
  },
  {
   "cell_type": "markdown",
   "id": "7a10a9e2-be10-451f-9b7e-a15af8cf7d3b",
   "metadata": {},
   "source": [
    "```sql\n",
    "/* Write your T-SQL query statement below */\n",
    "SELECT name, population, area\n",
    "FROM World\n",
    "WHERE area >= 3000000 OR population >= 25000000\n",
    "```"
   ]
  },
  {
   "cell_type": "markdown",
   "id": "2d7b4da1-8f68-4411-afba-134871718f8a",
   "metadata": {},
   "source": [
    "<a id='Article_Views_I'></a>\n",
    "# Article_Views_I"
   ]
  },
  {
   "cell_type": "markdown",
   "id": "0ef60e6c-dd78-4979-966c-a3c8be9b3c87",
   "metadata": {},
   "source": [
    "```sql\n",
    "/* Write your T-SQL query statement below */\n",
    "SELECT DISTINCT author_id AS id\n",
    "FROM Views\n",
    "WHERE author_id = viewer_id\n",
    "ORDER BY id \n",
    "```"
   ]
  },
  {
   "cell_type": "markdown",
   "id": "3ca6d431-a675-478a-a317-81298a3940b3",
   "metadata": {},
   "source": [
    "<a id='Invalid_Tweets'></a>\n",
    "# Invalid_Tweets"
   ]
  },
  {
   "cell_type": "markdown",
   "id": "fb207f90-cce4-4bd3-8c49-99a4e5c48ca8",
   "metadata": {},
   "source": [
    "```sql\n",
    "/* Write your T-SQL query statement below */\n",
    "SELECT tweet_id\n",
    "FROM Tweets\n",
    "WHERE LEN(content) > 15\n",
    "```"
   ]
  },
  {
   "cell_type": "code",
   "execution_count": null,
   "id": "89df2fe9-4b10-4357-a45a-112f7a1a23e7",
   "metadata": {},
   "outputs": [],
   "source": [
    "<a id='Refer_to'></a>\n",
    "# Refer_to"
   ]
  },
  {
   "cell_type": "markdown",
   "id": "fefdf191-6bd3-4431-bf48-a66c5370fd3a",
   "metadata": {},
   "source": [
    "```sql\n",
    "\n",
    "```"
   ]
  },
  {
   "cell_type": "code",
   "execution_count": null,
   "id": "4b8c98c7-05ea-4236-aba3-27620d84ab48",
   "metadata": {},
   "outputs": [],
   "source": [
    "<a id='Refer_to'></a>\n",
    "# Refer_to"
   ]
  },
  {
   "cell_type": "markdown",
   "id": "8ff2b5ea-bf6b-4c28-a2b8-a179e7d4836e",
   "metadata": {},
   "source": [
    "```sql\n",
    "\n",
    "```"
   ]
  },
  {
   "cell_type": "code",
   "execution_count": null,
   "id": "53ba438a-041a-4f93-bb6c-06f6c51f2a9b",
   "metadata": {},
   "outputs": [],
   "source": [
    "<a id='Refer_to'></a>\n",
    "# Refer_to"
   ]
  },
  {
   "cell_type": "markdown",
   "id": "08524415-c682-4d81-8715-48fb1742a9cd",
   "metadata": {},
   "source": [
    "```sql\n",
    "\n",
    "```"
   ]
  },
  {
   "cell_type": "code",
   "execution_count": null,
   "id": "1abad059-1cd8-4aba-a698-fe6597a2b313",
   "metadata": {},
   "outputs": [],
   "source": [
    "<a id='Refer_to'></a>\n",
    "# Refer_to"
   ]
  },
  {
   "cell_type": "markdown",
   "id": "410e8754-8e6b-493f-8132-bc160eda3b32",
   "metadata": {},
   "source": [
    "```sql\n",
    "\n",
    "```"
   ]
  },
  {
   "cell_type": "code",
   "execution_count": null,
   "id": "46521246-2c17-4ded-89ef-9177791cc418",
   "metadata": {},
   "outputs": [],
   "source": [
    "<a id='Refer_to'></a>\n",
    "# Refer_to"
   ]
  },
  {
   "cell_type": "markdown",
   "id": "a7e348c8-6384-4090-83b0-79c96e869085",
   "metadata": {},
   "source": [
    "```sql\n",
    "\n",
    "```"
   ]
  }
 ],
 "metadata": {
  "kernelspec": {
   "display_name": "Python 3 (ipykernel)",
   "language": "python",
   "name": "python3"
  },
  "language_info": {
   "codemirror_mode": {
    "name": "ipython",
    "version": 3
   },
   "file_extension": ".py",
   "mimetype": "text/x-python",
   "name": "python",
   "nbconvert_exporter": "python",
   "pygments_lexer": "ipython3",
   "version": "3.12.3"
  }
 },
 "nbformat": 4,
 "nbformat_minor": 5
}
