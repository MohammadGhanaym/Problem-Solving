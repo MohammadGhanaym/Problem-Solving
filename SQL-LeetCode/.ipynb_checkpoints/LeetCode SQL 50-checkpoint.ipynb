{
 "cells": [
  {
   "cell_type": "markdown",
   "id": "0b09bc99-592e-42c0-bc85-a4331e79b807",
   "metadata": {},
   "source": [
    "# LeetCode SQL 50\n",
    "\n",
    "<li><a href=\"#Recyclable_and_Low_Fat_Products\">Recyclable_and_Low_Fat_Products</a></li>\n",
    "<li><a href=\"#Find_Customer_Referee\">Find_Customer_Referee</a></li>\n",
    "<li><a href=\"#Big_Countries\">Big_Countries</a></li>\n",
    "<li><a href=\"#Article_Views_I\">Article_Views_I</a></li>\n",
    "<li><a href=\"#Invalid_Tweets\">Invalid_Tweets</a></li>\n",
    "<li><a href=\"#Replace_Employee_ID_With_The_Unique_Identifier\">Replace_Employee_ID_With_The_Unique_Identifier</a></li>\n",
    "<li><a href=\"#Product_Sales_Analysis_I\">Product_Sales_Analysis_I</a></li>\n",
    "<li><a href=\"#Customer_Who_Visited_but_Did_Not_Make_Any_Transactions\">Customer_Who_Visited_but_Did_Not_Make_Any_Transactions</a></li>\n",
    "<li><a href=\"#Rising_Temperature\">Rising_Temperature</a></li>\n",
    "<li><a href=\"#Average_Time_of_Process_per_Machine\">Average_Time_of_Process_per_Machine</a></li>\n",
    "<li><a href=\"#Employee_Bonus\">Employee_Bonus</a></li>\n",
    "<li><a href=\"#Students_and_Examinations\">Students_and_Examinations</a></li>\n",
    "<li><a href=\"#Managers_with_at_Least_5_Direct_Reports\">Managers_with_at_Least_5_Direct_Reports</a></li>\n",
    "<li><a href=\"#Confirmation_Rate\">Confirmation_Rate</a></li>\n",
    "<li><a href=\"#Not_Boring_Movies\">Not_Boring_Movies</a></li>\n",
    "<li><a href=\"#Average_Selling_Price\">Average_Selling_Price</a></li>\n",
    "<li><a href=\"#Project_Employees_I\">Project_Employees_I</a></li>\n",
    "<li><a href=\"#Percentage_of_Users_Attended_a_Contest\">Percentage_of_Users_Attended_a_Contest</a></li>\n",
    "<li><a href=\"#Queries_Quality_and_Percentage\">Queries_Quality_and_Percentage</a></li>\n",
    "<li><a href=\"#Monthly_Transactions_I\">Monthly_Transactions_I</a></li>\n",
    "<li><a href=\"#Immediate_Food_Delivery_II\">Immediate_Food_Delivery_II</a></li>\n",
    "<li><a href=\"#Game_Play_Analysis_IV\">Game_Play_Analysis_IV</a></li>\n",
    "<li><a href=\"#Write_Here\">Write_Here</a></li>\n",
    "<li><a href=\"#Write_Here\">Write_Here</a></li>\n",
    "<li><a href=\"#Write_Here\">Write_Here</a></li>\n",
    "<li><a href=\"#Write_Here\">Write_Here</a></li>\n",
    "<li><a href=\"#Write_Here\">Write_Here</a></li>\n",
    "<li><a href=\"#Write_Here\">Write_Here</a></li>\n",
    "<li><a href=\"#Write_Here\">Write_Here</a></li>"
   ]
  },
  {
   "cell_type": "code",
   "execution_count": 1,
   "id": "2aec4ac0-a54f-47fd-9d84-fa779558b00e",
   "metadata": {},
   "outputs": [
    {
     "name": "stdin",
     "output_type": "stream",
     "text": [
      " Game Play Analysis IV\n"
     ]
    },
    {
     "data": {
      "text/plain": [
       "'Game_Play_Analysis_IV'"
      ]
     },
     "execution_count": 1,
     "metadata": {},
     "output_type": "execute_result"
    }
   ],
   "source": [
    "input().replace(' ', '_')"
   ]
  },
  {
   "cell_type": "markdown",
   "id": "de2daad4-edfe-442d-a3f6-bd50590c1dc6",
   "metadata": {},
   "source": [
    "<a id='Recyclable_and_Low_Fat_Products'></a>\n",
    "# Recyclable_and_Low_Fat_Products"
   ]
  },
  {
   "cell_type": "markdown",
   "id": "593617d3-dac7-4568-a47e-8cc8835dbcc0",
   "metadata": {},
   "source": [
    "```sql\n",
    "/* Write your T-SQL query statement below */\n",
    "SELECT product_id\n",
    "FROM Products\n",
    "WHERE low_fats = 'Y' AND recyclable = 'Y'\n",
    "```"
   ]
  },
  {
   "cell_type": "markdown",
   "id": "382ea265-8af4-48e8-ad86-62acf56e9cbc",
   "metadata": {},
   "source": [
    "<a id='Find_Customer_Referee'></a>\n",
    "# Find_Customer_Referee"
   ]
  },
  {
   "cell_type": "markdown",
   "id": "157aa9e9-04b5-4609-afec-2bfd035436d1",
   "metadata": {},
   "source": [
    "```sql\n",
    "/* Write your T-SQL query statement below */\n",
    "SELECT name\n",
    "FROM Customer\n",
    "WHERE referee_id != 2 OR referee_id IS NULL\n",
    "```"
   ]
  },
  {
   "cell_type": "markdown",
   "id": "98d3e6c0-6c76-4295-8aa9-f774b0b61afb",
   "metadata": {},
   "source": [
    "<a id='Big_Countries'></a>\n",
    "# Big_Countries"
   ]
  },
  {
   "cell_type": "markdown",
   "id": "7a10a9e2-be10-451f-9b7e-a15af8cf7d3b",
   "metadata": {},
   "source": [
    "```sql\n",
    "/* Write your T-SQL query statement below */\n",
    "SELECT name, population, area\n",
    "FROM World\n",
    "WHERE area >= 3000000 OR population >= 25000000\n",
    "```"
   ]
  },
  {
   "cell_type": "markdown",
   "id": "2d7b4da1-8f68-4411-afba-134871718f8a",
   "metadata": {},
   "source": [
    "<a id='Article_Views_I'></a>\n",
    "# Article_Views_I"
   ]
  },
  {
   "cell_type": "markdown",
   "id": "0ef60e6c-dd78-4979-966c-a3c8be9b3c87",
   "metadata": {},
   "source": [
    "```sql\n",
    "/* Write your T-SQL query statement below */\n",
    "SELECT DISTINCT author_id AS id\n",
    "FROM Views\n",
    "WHERE author_id = viewer_id\n",
    "ORDER BY id \n",
    "```"
   ]
  },
  {
   "cell_type": "markdown",
   "id": "3ca6d431-a675-478a-a317-81298a3940b3",
   "metadata": {},
   "source": [
    "<a id='Invalid_Tweets'></a>\n",
    "# Invalid_Tweets"
   ]
  },
  {
   "cell_type": "markdown",
   "id": "fb207f90-cce4-4bd3-8c49-99a4e5c48ca8",
   "metadata": {},
   "source": [
    "```sql\n",
    "/* Write your T-SQL query statement below */\n",
    "SELECT tweet_id\n",
    "FROM Tweets\n",
    "WHERE LEN(content) > 15\n",
    "```"
   ]
  },
  {
   "cell_type": "markdown",
   "id": "d73c2212-b789-4e07-ad33-71e6562db222",
   "metadata": {},
   "source": [
    "<a id='Replace_Employee_ID_With_The_Unique_Identifier'></a>\n",
    "# Replace_Employee_ID_With_The_Unique_Identifier"
   ]
  },
  {
   "cell_type": "markdown",
   "id": "fefdf191-6bd3-4431-bf48-a66c5370fd3a",
   "metadata": {},
   "source": [
    "```sql\n",
    "SELECT unique_id, name\n",
    "FROM Employees e\n",
    "LEFT JOIN EmployeeUNI eUNI\n",
    "ON e.id = eUNI.id\n",
    "```"
   ]
  },
  {
   "cell_type": "markdown",
   "id": "10c85cca-3edf-4663-9c35-1533a60655bf",
   "metadata": {},
   "source": [
    "<a id='Product_Sales_Analysis_I'></a>\n",
    "# Product_Sales_Analysis_I"
   ]
  },
  {
   "cell_type": "markdown",
   "id": "8ff2b5ea-bf6b-4c28-a2b8-a179e7d4836e",
   "metadata": {},
   "source": [
    "```sql\n",
    "/* Write your T-SQL query statement below */\n",
    "SELECT product_name, year, price\n",
    "FROM Sales s\n",
    "INNER JOIN Product p\n",
    "ON s.product_id = p.product_id\n",
    "```"
   ]
  },
  {
   "cell_type": "markdown",
   "id": "a8824065-dcfc-4c94-8149-4a184bddf8e9",
   "metadata": {},
   "source": [
    "<a id='Customer_Who_Visited_but_Did_Not_Make_Any_Transactions'></a>\n",
    "# Customer_Who_Visited_but_Did_Not_Make_Any_Transactions"
   ]
  },
  {
   "cell_type": "markdown",
   "id": "08524415-c682-4d81-8715-48fb1742a9cd",
   "metadata": {},
   "source": [
    "```sql\n",
    "/* Write your T-SQL query statement below */\n",
    "SELECT customer_id, COUNT(*) AS count_no_trans\n",
    "FROM Visits v\n",
    "LEFT JOIN Transactions t\n",
    "ON v.visit_id = t.visit_id\n",
    "WHERE t.visit_id IS NULL\n",
    "GROUP BY customer_id\n",
    "```"
   ]
  },
  {
   "cell_type": "markdown",
   "id": "43afe9a1-d492-4149-9969-fb3ff88b01ef",
   "metadata": {},
   "source": [
    "<a id='Rising_Temperature'></a>\n",
    "# Rising_Temperature"
   ]
  },
  {
   "cell_type": "markdown",
   "id": "410e8754-8e6b-493f-8132-bc160eda3b32",
   "metadata": {},
   "source": [
    "```sql\n",
    "/* Write your T-SQL query statement below */\n",
    "SELECT w1.id\n",
    "FROM Weather w1\n",
    "CROSS JOIN Weather w2\n",
    "WHERE w1.temperature > w2.temperature AND DATEDIFF(DAY, w2.recordDate, w1.recordDate) = 1\n",
    "```"
   ]
  },
  {
   "cell_type": "markdown",
   "id": "5b5e73e9-0f47-4b2d-a6f5-de499b63c414",
   "metadata": {},
   "source": [
    "```sql\n",
    "/* Write your T-SQL query statement below */\n",
    "SELECT id\n",
    "FROM (SELECT id, recordDate, temperature, LAG(temperature) OVER(ORDER BY recordDate) AS pre_temp,\n",
    "      LAG(recordDate) OVER(ORDER BY recordDate) AS pre_date\n",
    "FROM Weather) t2\n",
    "WHERE temperature > pre_temp AND DATEDIFF(DAY, pre_date, recordDate) = 1\n",
    "\n",
    "```"
   ]
  },
  {
   "cell_type": "markdown",
   "id": "53b574f8-fc17-471f-89a5-17781c70fdd4",
   "metadata": {},
   "source": [
    "<a id='Average_Time_of_Process_per_Machine'></a>\n",
    "# Average_Time_of_Process_per_Machine"
   ]
  },
  {
   "cell_type": "markdown",
   "id": "a7e348c8-6384-4090-83b0-79c96e869085",
   "metadata": {},
   "source": [
    "```sql\n",
    "/* Write your T-SQL query statement below */\n",
    "SELECT a1.machine_id, ROUND(AVG(a2.timestamp - a1.timestamp), 3) AS processing_time\n",
    "FROM Activity a1\n",
    "CROSS JOIN Activity a2\n",
    "WHERE a1.machine_id = a2.machine_id \n",
    "      AND a1.process_id = a2.process_id \n",
    "      AND a1.activity_type = 'start'\n",
    "      AND a2.activity_type = 'end'\n",
    "GROUP BY a1.machine_id\n",
    "```"
   ]
  },
  {
   "cell_type": "markdown",
   "id": "add8f172-0d62-4b03-b7cf-7bcf0958f8e1",
   "metadata": {},
   "source": [
    "<a id='Employee_Bonus'></a>\n",
    "# Employee_Bonus"
   ]
  },
  {
   "cell_type": "markdown",
   "id": "54dd5118-f299-4211-9185-830aa49e95b5",
   "metadata": {},
   "source": [
    "```sql\n",
    "/* Write your T-SQL query statement below */\n",
    "SELECT name, bonus\n",
    "FROM Employee e\n",
    "LEFT JOIN Bonus s\n",
    "ON e.empId = s.empId\n",
    "WHERE bonus < 1000 OR bonus IS NULL\n",
    "```"
   ]
  },
  {
   "cell_type": "markdown",
   "id": "e88e79bd-9b89-496a-adbc-07e335732b57",
   "metadata": {},
   "source": [
    "<a id='Students_and_Examinations'></a>\n",
    "# Students_and_Examinations"
   ]
  },
  {
   "cell_type": "markdown",
   "id": "3d518efc-5a0f-4efc-b46d-3114aeb38fdd",
   "metadata": {},
   "source": [
    "```sql\n",
    "/* Write your T-SQL query statement below */\n",
    "SELECT Distinct s.student_id, s.student_name, sub.subject_name, COUNT(e.student_id) AS attended_exams\n",
    "FROM Students s\n",
    "CROSS JOIN Subjects sub\n",
    "LEFT JOIN Examinations e\n",
    "ON e.student_id = s.student_id AND e.subject_name = sub.subject_name\n",
    "GROUP BY s.student_id, s.student_name, sub.subject_name\n",
    "\n",
    "```"
   ]
  },
  {
   "cell_type": "markdown",
   "id": "0f4220cb-6b2f-4f26-bf68-d7318b9921f4",
   "metadata": {},
   "source": [
    "<a id='Managers_with_at_Least_5_Direct_Reports'></a>\n",
    "# Managers_with_at_Least_5_Direct_Reports"
   ]
  },
  {
   "cell_type": "markdown",
   "id": "aa445f3e-7618-4fcd-9653-81a5f448e5e6",
   "metadata": {},
   "source": [
    "```sql\n",
    "/* Write your T-SQL query statement below */\n",
    "SELECT m.name\n",
    "FROM Employee AS e\n",
    "INNER JOIN Employee AS m ON e.managerId = m.id\n",
    "GROUP BY m.id, m.name\n",
    "HAVING COUNT(e.managerId) >= 5;\n",
    "```"
   ]
  },
  {
   "cell_type": "markdown",
   "id": "5ab9ca8e-47de-41d8-a2e7-ad7176952a47",
   "metadata": {},
   "source": [
    "```sql\n",
    "SELECT name\n",
    "FROM (SELECT mang.managerId, COUNT(mang.managerId) AS n_reports\n",
    "        FROM Employee mang\n",
    "        GROUP BY mang.managerId\n",
    "        HAVING COUNT(mang.managerId) >= 5) t1\n",
    "INNER JOIN Employee e\n",
    "ON t1.managerId = e.id\n",
    "```"
   ]
  },
  {
   "cell_type": "markdown",
   "id": "462f78a8-6b4c-491e-a83a-f30e6fc03dac",
   "metadata": {},
   "source": [
    "<a id='Confirmation_Rate'></a>\n",
    "# Confirmation_Rate"
   ]
  },
  {
   "cell_type": "markdown",
   "id": "fc4a766e-921a-4db5-985d-33f4bbe50e8f",
   "metadata": {},
   "source": [
    "```sql\n",
    "/* Write your T-SQL query statement below */\n",
    "SELECT s.user_id, ROUND(AVG(CASE WHEN c.action = 'confirmed' THEN 1.0 ELSE 0.0 END), 2) AS confirmation_rate\n",
    "FROM Signups s\n",
    "LEFT JOIN Confirmations c\n",
    "ON s.user_id = c.user_id\n",
    "GROUP BY s.user_id\n",
    "```"
   ]
  },
  {
   "cell_type": "markdown",
   "id": "3c3e3ac8-7a74-46d1-8712-76d70df75a69",
   "metadata": {},
   "source": [
    "<a id='Not_Boring_Movies'></a>\n",
    "# Not_Boring_Movies"
   ]
  },
  {
   "cell_type": "markdown",
   "id": "e01f6535-4cfd-49b8-a12e-597200b71d2e",
   "metadata": {},
   "source": [
    "```sql\n",
    "/* Write your T-SQL query statement below */\n",
    "SELECT id, movie, description, rating\n",
    "FROM Cinema\n",
    "WHERE id % 2 != 0 AND description != 'boring'\n",
    "ORDER BY rating DESC\n",
    "```"
   ]
  },
  {
   "cell_type": "markdown",
   "id": "df7e2bd5-14b1-4fc2-a9cf-74cc073cf549",
   "metadata": {},
   "source": [
    "<a id='Average_Selling_Price'></a>\n",
    "# Average_Selling_Price"
   ]
  },
  {
   "cell_type": "markdown",
   "id": "3052d932-62aa-45d6-a8e8-16e2a315bdd9",
   "metadata": {},
   "source": [
    "```sql\n",
    "/* Write your T-SQL query statement below */\n",
    "SELECT p.product_id, ISNULL(ROUND(SUM(p.price * u.units) / CAST(SUM(u.units) AS FLOAT), 2), 0) AS average_price\n",
    "FROM Prices p\n",
    "LEFT JOIN UnitsSold u\n",
    "ON p.product_id = u.product_id AND u.purchase_date BETWEEN p.start_date AND p.end_date\n",
    "GROUP BY p.product_id\n",
    "```"
   ]
  },
  {
   "cell_type": "markdown",
   "id": "0fffb8e7-ce2e-4527-a6f6-5a5c87be635a",
   "metadata": {},
   "source": [
    "<a id='Project_Employees_I'></a>\n",
    "# Project_Employees_I"
   ]
  },
  {
   "cell_type": "markdown",
   "id": "f9caf5df-4ed1-4e9e-b7ab-8bdee94f1129",
   "metadata": {},
   "source": [
    "```sql\n",
    "/* Write your T-SQL query statement below */\n",
    "SELECT project_id, ROUND(AVG(CAST(experience_years AS DECIMAL)), 2) average_years\n",
    "FROM Project p\n",
    "LEFT JOIN Employee e\n",
    "ON p.employee_id = e.employee_id\n",
    "GROUP BY project_id\n",
    "\n",
    "```"
   ]
  },
  {
   "cell_type": "markdown",
   "id": "2381b66c-1e81-4d41-a893-ef8431d98cab",
   "metadata": {},
   "source": [
    "<a id='Percentage_of_Users_Attended_a_Contest'></a>\n",
    "# Percentage_of_Users_Attended_a_Contest"
   ]
  },
  {
   "cell_type": "markdown",
   "id": "4367caaf-dec3-481d-a018-1d9868b792e2",
   "metadata": {},
   "source": [
    "```sql\n",
    "/* Write your T-SQL query statement below */    \n",
    "SELECT r.contest_id, \n",
    "       ROUND(100.0 * COUNT(DISTINCT r.user_id) / (SELECT COUNT(*) FROM Users), 2) AS percentage\n",
    "FROM Register r\n",
    "GROUP BY r.contest_id\n",
    "ORDER BY percentage DESC, contest_id;\n",
    "```"
   ]
  },
  {
   "cell_type": "markdown",
   "id": "3486d84a-d641-4f5d-a39c-7c8b2a3796a1",
   "metadata": {},
   "source": [
    "<a id='Queries_Quality_and_Percentage'></a>\n",
    "# Queries_Quality_and_Percentage"
   ]
  },
  {
   "cell_type": "markdown",
   "id": "52ffb0ad-bf51-4212-bce2-1357013d1175",
   "metadata": {},
   "source": [
    "```sql\n",
    "/* Write your T-SQL query statement below */\n",
    "SELECT \n",
    "    query_name, \n",
    "    ROUND(AVG(1.0 * rating / position), 2) AS quality, \n",
    "    ROUND(AVG(CASE WHEN rating < 3 THEN 1.0 ELSE 0.0 END) * 100, 2) AS poor_query_percentage\n",
    "FROM Queries\n",
    "GROUP BY query_name\n",
    "```"
   ]
  },
  {
   "cell_type": "markdown",
   "id": "caf04cb8-e86a-447b-97d7-4a2de40dea92",
   "metadata": {},
   "source": [
    "<a id='Monthly_Transactions_I'></a>\n",
    "# Monthly_Transactions_I"
   ]
  },
  {
   "cell_type": "markdown",
   "id": "2bdcae42-c2ac-43ac-a6ad-dc8a84fb0acc",
   "metadata": {},
   "source": [
    "```sql\n",
    "/* Write your T-SQL query statement below */\n",
    "SELECT \n",
    "    FORMAT(trans_date, 'yyyy-MM') AS month, \n",
    "    country, \n",
    "    COUNT(id) AS trans_count, \n",
    "    SUM(CASE WHEN state = 'approved' THEN 1 ELSE 0 END) AS approved_count,\n",
    "    SUM(amount) AS trans_total_amount,\n",
    "    SUM(CASE WHEN state = 'approved' THEN amount ELSE 0 END) AS approved_total_amount\n",
    "FROM Transactions\n",
    "GROUP BY FORMAT(trans_date, 'yyyy-MM'), country\n",
    "```"
   ]
  },
  {
   "cell_type": "markdown",
   "id": "583156f7-a548-4e5c-b2d6-585d9ce8047d",
   "metadata": {},
   "source": [
    "<a id='Immediate_Food_Delivery_II'></a>\n",
    "# Immediate_Food_Delivery_II"
   ]
  },
  {
   "cell_type": "markdown",
   "id": "7f828cfa-0b20-4469-8db8-2f0f97e73192",
   "metadata": {},
   "source": [
    "```sql\n",
    "/* Write your T-SQL query statement below */\n",
    "SELECT \n",
    "    ROUND(AVG(CASE WHEN d1.order_date = d1.customer_pref_delivery_date THEN 1.0 ELSE 0.0 END) * 100, 2) AS immediate_percentage\n",
    "FROM Delivery d1\n",
    "INNER JOIN (SELECT customer_id, MIN(order_date) AS first_order\n",
    "            FROM Delivery\n",
    "            GROUP BY customer_id) d2\n",
    "ON d1.customer_id = d2.customer_id AND d1.order_date = d2.first_order\n",
    "```"
   ]
  },
  {
   "cell_type": "markdown",
   "id": "5f0fbe16-39c4-4c8b-925a-694e7c0131b5",
   "metadata": {},
   "source": [
    "<a id='Game_Play_Analysis_IV'></a>\n",
    "# Game_Play_Analysis_IV"
   ]
  },
  {
   "cell_type": "markdown",
   "id": "44d03c75-1f4c-4981-bdc0-c3bb1974733a",
   "metadata": {},
   "source": [
    "```sql\n",
    "/* Write your T-SQL query statement below */\n",
    "SELECT \n",
    "    ROUND(\n",
    "        SUM(\n",
    "        CASE WHEN DATEDIFF(DAY, a2.first_date, a1.event_date) = 1 \n",
    "        THEN 1.0 ELSE 0.0 END\n",
    "            ) / COUNT(DISTINCT a1.player_id),\n",
    "        2) AS fraction\n",
    "FROM Activity a1\n",
    "INNER JOIN (SELECT player_id, MIN(event_date) first_date\n",
    "            FROM Activity\n",
    "            GROUP BY player_id) a2\n",
    "ON a1.player_id = a2.player_id\n",
    "```"
   ]
  },
  {
   "cell_type": "code",
   "execution_count": null,
   "id": "352354b6-7754-46d6-a6e2-6288d94a7d82",
   "metadata": {},
   "outputs": [],
   "source": [
    "<a id='Refer_to'></a>\n",
    "# Refer_to"
   ]
  },
  {
   "cell_type": "code",
   "execution_count": null,
   "id": "5c05fc6d-4c0a-4e14-a072-922cc340f2b7",
   "metadata": {},
   "outputs": [],
   "source": [
    "```sql\n",
    "\n",
    "```"
   ]
  },
  {
   "cell_type": "code",
   "execution_count": null,
   "id": "771db16a-781e-4122-ae7f-0080afb72a63",
   "metadata": {},
   "outputs": [],
   "source": [
    "<a id='Refer_to'></a>\n",
    "# Refer_to"
   ]
  },
  {
   "cell_type": "code",
   "execution_count": null,
   "id": "8853fef9-02dc-4124-ab93-7564f961c9cd",
   "metadata": {},
   "outputs": [],
   "source": [
    "```sql\n",
    "\n",
    "```"
   ]
  },
  {
   "cell_type": "code",
   "execution_count": null,
   "id": "eac57c54-a2e7-4596-9790-de9847c76f8a",
   "metadata": {},
   "outputs": [],
   "source": [
    "<a id='Refer_to'></a>\n",
    "# Refer_to"
   ]
  },
  {
   "cell_type": "code",
   "execution_count": null,
   "id": "a2efe12a-087e-4e8c-a086-3a4447df8cec",
   "metadata": {},
   "outputs": [],
   "source": [
    "```sql\n",
    "\n",
    "```"
   ]
  },
  {
   "cell_type": "code",
   "execution_count": null,
   "id": "d082963f-0428-44f6-8c82-c2e951255d35",
   "metadata": {},
   "outputs": [],
   "source": [
    "<a id='Refer_to'></a>\n",
    "# Refer_to"
   ]
  },
  {
   "cell_type": "code",
   "execution_count": null,
   "id": "823dc55d-339e-4149-96a1-13f7b326c6c3",
   "metadata": {},
   "outputs": [],
   "source": [
    "```sql\n",
    "\n",
    "```"
   ]
  }
 ],
 "metadata": {
  "kernelspec": {
   "display_name": "Python 3 (ipykernel)",
   "language": "python",
   "name": "python3"
  },
  "language_info": {
   "codemirror_mode": {
    "name": "ipython",
    "version": 3
   },
   "file_extension": ".py",
   "mimetype": "text/x-python",
   "name": "python",
   "nbconvert_exporter": "python",
   "pygments_lexer": "ipython3",
   "version": "3.12.7"
  }
 },
 "nbformat": 4,
 "nbformat_minor": 5
}
