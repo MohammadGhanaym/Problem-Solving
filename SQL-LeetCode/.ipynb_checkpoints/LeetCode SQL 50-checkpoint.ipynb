{
 "cells": [
  {
   "cell_type": "markdown",
   "id": "0b09bc99-592e-42c0-bc85-a4331e79b807",
   "metadata": {},
   "source": [
    "# LeetCode SQL 50\n",
    "\n",
    "<li><a href=\"#Recyclable_and_Low_Fat_Products\">Recyclable_and_Low_Fat_Products</a></li>\n",
    "<li><a href=\"#Find_Customer_Referee\">Find_Customer_Referee</a></li>\n",
    "<li><a href=\"#Big_Countries\">Big_Countries</a></li>\n",
    "<li><a href=\"#Article_Views_I\">Article_Views_I</a></li>\n",
    "<li><a href=\"#Invalid_Tweets\">Invalid_Tweets</a></li>\n",
    "<li><a href=\"#Replace_Employee_ID_With_The_Unique_Identifier\">Replace_Employee_ID_With_The_Unique_Identifier</a></li>\n",
    "<li><a href=\"#Product_Sales_Analysis_I\">Product_Sales_Analysis_I</a></li>\n",
    "<li><a href=\"#Customer_Who_Visited_but_Did_Not_Make_Any_Transactions\">Customer_Who_Visited_but_Did_Not_Make_Any_Transactions</a></li>\n",
    "<li><a href=\"#Rising_Temperature\">Rising_Temperature</a></li>\n",
    "<li><a href=\"#Average_Time_of_Process_per_Machine\">Average_Time_of_Process_per_Machine</a></li>\n",
    "<li><a href=\"#Employee_Bonus\">Employee_Bonus</a></li>\n",
    "<li><a href=\"#Students_and_Examinations\">Students_and_Examinations</a></li>\n",
    "<li><a href=\"#Managers_with_at_Least_5_Direct_Reports\">Managers_with_at_Least_5_Direct_Reports</a></li>\n",
    "<li><a href=\"#Confirmation_Rate\">Confirmation_Rate</a></li>\n",
    "<li><a href=\"#Not_Boring_Movies\">Not_Boring_Movies</a></li>\n",
    "<li><a href=\"#Average_Selling_Price\">Average_Selling_Price</a></li>\n",
    "<li><a href=\"#Project_Employees_I\">Project_Employees_I</a></li>\n",
    "<li><a href=\"#Percentage_of_Users_Attended_a_Contest\">Percentage_of_Users_Attended_a_Contest</a></li>\n",
    "<li><a href=\"#Queries_Quality_and_Percentage\">Queries_Quality_and_Percentage</a></li>\n",
    "<li><a href=\"#Monthly_Transactions_I\">Monthly_Transactions_I</a></li>\n",
    "<li><a href=\"#Immediate_Food_Delivery_II\">Immediate_Food_Delivery_II</a></li>\n",
    "<li><a href=\"#Game_Play_Analysis_IV\">Game_Play_Analysis_IV</a></li>\n",
    "<li><a href=\"#Number_of_Unique_Subjects_Taught_by_Each_Teacher\">Number_of_Unique_Subjects_Taught_by_Each_Teacher</a></li>\n",
    "<li><a href=\"#User_Activity_for_the_Past_30_Days_I\">User_Activity_for_the_Past_30_Days_I</a></li>\n",
    "<li><a href=\"#Classes_With_at_Least_5_Students\">Classes_With_at_Least_5_Students</a></li>\n",
    "<li><a href=\"#Biggest_Single_Number\">Biggest_Single_Number</a></li>\n",
    "<li><a href=\"#Customers_Who_Bought_All_Products\">Customers_Who_Bought_All_Products</a></li>\n",
    "<li><a href=\"#The_Number_of_Employees_Which_Report_to_Each_Employee\">The_Number_of_Employees_Which_Report_to_Each_Employee</a></li>\n",
    "<li><a href=\"#Primary_Department_for_Each_Employee\">Primary_Department_for_Each_Employee</a></li>\n",
    "<li><a href=\"#Triangle_Judgement\">Triangle_Judgement</a></li>\n",
    "<li><a href=\"#Consecutive_Numbers\">Consecutive_Numbers</a></li>\n",
    "<li><a href=\"#Product_Price_at_a_Given_Date\">Product_Price_at_a_Given_Date</a></li>\n",
    "<li><a href=\"#Last_Person_to_Fit_in_the_Bus\">Last_Person_to_Fit_in_the_Bus</a></li>\n",
    "<li><a href=\"#Count_Salary_Categories\">Count_Salary_Categories</a></li>\n",
    "<li><a href=\"#Employees_Whose_Manager_Left_the_Company\">Employees_Whose_Manager_Left_the_Company</a></li>\n",
    "<li><a href=\"#Exchange_Seats\">Exchange_Seats</a></li>\n",
    "<li><a href=\"#Write_Here\">Write_Here</a></li>\n",
    "<li><a href=\"#Write_Here\">Write_Here</a></li>\n",
    "<li><a href=\"#Write_Here\">Write_Here</a></li>\n",
    "<li><a href=\"#Write_Here\">Write_Here</a></li>\n",
    "<li><a href=\"#Write_Here\">Write_Here</a></li>\n",
    "<li><a href=\"#Write_Here\">Write_Here</a></li>\n",
    "<li><a href=\"#Write_Here\">Write_Here</a></li>\n",
    "<li><a href=\"#Write_Here\">Write_Here</a></li>\n",
    "<li><a href=\"#Write_Here\">Write_Here</a></li>"
   ]
  },
  {
   "cell_type": "code",
   "execution_count": 2,
   "id": "2aec4ac0-a54f-47fd-9d84-fa779558b00e",
   "metadata": {},
   "outputs": [
    {
     "name": "stdin",
     "output_type": "stream",
     "text": [
      " Exchange Seats\n"
     ]
    },
    {
     "data": {
      "text/plain": [
       "'Exchange_Seats'"
      ]
     },
     "execution_count": 2,
     "metadata": {},
     "output_type": "execute_result"
    }
   ],
   "source": [
    "input().replace(' ', '_')"
   ]
  },
  {
   "cell_type": "markdown",
   "id": "de2daad4-edfe-442d-a3f6-bd50590c1dc6",
   "metadata": {},
   "source": [
    "<a id='Recyclable_and_Low_Fat_Products'></a>\n",
    "# Recyclable_and_Low_Fat_Products"
   ]
  },
  {
   "cell_type": "markdown",
   "id": "593617d3-dac7-4568-a47e-8cc8835dbcc0",
   "metadata": {},
   "source": [
    "```sql\n",
    "/* Write your T-SQL query statement below */\n",
    "SELECT product_id\n",
    "FROM Products\n",
    "WHERE low_fats = 'Y' AND recyclable = 'Y'\n",
    "```"
   ]
  },
  {
   "cell_type": "markdown",
   "id": "382ea265-8af4-48e8-ad86-62acf56e9cbc",
   "metadata": {},
   "source": [
    "<a id='Find_Customer_Referee'></a>\n",
    "# Find_Customer_Referee"
   ]
  },
  {
   "cell_type": "markdown",
   "id": "157aa9e9-04b5-4609-afec-2bfd035436d1",
   "metadata": {},
   "source": [
    "```sql\n",
    "/* Write your T-SQL query statement below */\n",
    "SELECT name\n",
    "FROM Customer\n",
    "WHERE referee_id != 2 OR referee_id IS NULL\n",
    "```"
   ]
  },
  {
   "cell_type": "markdown",
   "id": "98d3e6c0-6c76-4295-8aa9-f774b0b61afb",
   "metadata": {},
   "source": [
    "<a id='Big_Countries'></a>\n",
    "# Big_Countries"
   ]
  },
  {
   "cell_type": "markdown",
   "id": "7a10a9e2-be10-451f-9b7e-a15af8cf7d3b",
   "metadata": {},
   "source": [
    "```sql\n",
    "/* Write your T-SQL query statement below */\n",
    "SELECT name, population, area\n",
    "FROM World\n",
    "WHERE area >= 3000000 OR population >= 25000000\n",
    "```"
   ]
  },
  {
   "cell_type": "markdown",
   "id": "2d7b4da1-8f68-4411-afba-134871718f8a",
   "metadata": {},
   "source": [
    "<a id='Article_Views_I'></a>\n",
    "# Article_Views_I"
   ]
  },
  {
   "cell_type": "markdown",
   "id": "0ef60e6c-dd78-4979-966c-a3c8be9b3c87",
   "metadata": {},
   "source": [
    "```sql\n",
    "/* Write your T-SQL query statement below */\n",
    "SELECT DISTINCT author_id AS id\n",
    "FROM Views\n",
    "WHERE author_id = viewer_id\n",
    "ORDER BY id \n",
    "```"
   ]
  },
  {
   "cell_type": "markdown",
   "id": "3ca6d431-a675-478a-a317-81298a3940b3",
   "metadata": {},
   "source": [
    "<a id='Invalid_Tweets'></a>\n",
    "# Invalid_Tweets"
   ]
  },
  {
   "cell_type": "markdown",
   "id": "fb207f90-cce4-4bd3-8c49-99a4e5c48ca8",
   "metadata": {},
   "source": [
    "```sql\n",
    "/* Write your T-SQL query statement below */\n",
    "SELECT tweet_id\n",
    "FROM Tweets\n",
    "WHERE LEN(content) > 15\n",
    "```"
   ]
  },
  {
   "cell_type": "markdown",
   "id": "d73c2212-b789-4e07-ad33-71e6562db222",
   "metadata": {},
   "source": [
    "<a id='Replace_Employee_ID_With_The_Unique_Identifier'></a>\n",
    "# Replace_Employee_ID_With_The_Unique_Identifier"
   ]
  },
  {
   "cell_type": "markdown",
   "id": "fefdf191-6bd3-4431-bf48-a66c5370fd3a",
   "metadata": {},
   "source": [
    "```sql\n",
    "SELECT unique_id, name\n",
    "FROM Employees e\n",
    "LEFT JOIN EmployeeUNI eUNI\n",
    "ON e.id = eUNI.id\n",
    "```"
   ]
  },
  {
   "cell_type": "markdown",
   "id": "10c85cca-3edf-4663-9c35-1533a60655bf",
   "metadata": {},
   "source": [
    "<a id='Product_Sales_Analysis_I'></a>\n",
    "# Product_Sales_Analysis_I"
   ]
  },
  {
   "cell_type": "markdown",
   "id": "8ff2b5ea-bf6b-4c28-a2b8-a179e7d4836e",
   "metadata": {},
   "source": [
    "```sql\n",
    "/* Write your T-SQL query statement below */\n",
    "SELECT product_name, year, price\n",
    "FROM Sales s\n",
    "INNER JOIN Product p\n",
    "ON s.product_id = p.product_id\n",
    "```"
   ]
  },
  {
   "cell_type": "markdown",
   "id": "a8824065-dcfc-4c94-8149-4a184bddf8e9",
   "metadata": {},
   "source": [
    "<a id='Customer_Who_Visited_but_Did_Not_Make_Any_Transactions'></a>\n",
    "# Customer_Who_Visited_but_Did_Not_Make_Any_Transactions"
   ]
  },
  {
   "cell_type": "markdown",
   "id": "08524415-c682-4d81-8715-48fb1742a9cd",
   "metadata": {},
   "source": [
    "```sql\n",
    "/* Write your T-SQL query statement below */\n",
    "SELECT customer_id, COUNT(*) AS count_no_trans\n",
    "FROM Visits v\n",
    "LEFT JOIN Transactions t\n",
    "ON v.visit_id = t.visit_id\n",
    "WHERE t.visit_id IS NULL\n",
    "GROUP BY customer_id\n",
    "```"
   ]
  },
  {
   "cell_type": "markdown",
   "id": "43afe9a1-d492-4149-9969-fb3ff88b01ef",
   "metadata": {},
   "source": [
    "<a id='Rising_Temperature'></a>\n",
    "# Rising_Temperature"
   ]
  },
  {
   "cell_type": "markdown",
   "id": "410e8754-8e6b-493f-8132-bc160eda3b32",
   "metadata": {},
   "source": [
    "```sql\n",
    "/* Write your T-SQL query statement below */\n",
    "SELECT w1.id\n",
    "FROM Weather w1\n",
    "CROSS JOIN Weather w2\n",
    "WHERE w1.temperature > w2.temperature AND DATEDIFF(DAY, w2.recordDate, w1.recordDate) = 1\n",
    "```"
   ]
  },
  {
   "cell_type": "markdown",
   "id": "5b5e73e9-0f47-4b2d-a6f5-de499b63c414",
   "metadata": {},
   "source": [
    "```sql\n",
    "/* Write your T-SQL query statement below */\n",
    "SELECT id\n",
    "FROM (SELECT id, recordDate, temperature, LAG(temperature) OVER(ORDER BY recordDate) AS pre_temp,\n",
    "      LAG(recordDate) OVER(ORDER BY recordDate) AS pre_date\n",
    "FROM Weather) t2\n",
    "WHERE temperature > pre_temp AND DATEDIFF(DAY, pre_date, recordDate) = 1\n",
    "\n",
    "```"
   ]
  },
  {
   "cell_type": "markdown",
   "id": "53b574f8-fc17-471f-89a5-17781c70fdd4",
   "metadata": {},
   "source": [
    "<a id='Average_Time_of_Process_per_Machine'></a>\n",
    "# Average_Time_of_Process_per_Machine"
   ]
  },
  {
   "cell_type": "markdown",
   "id": "a7e348c8-6384-4090-83b0-79c96e869085",
   "metadata": {},
   "source": [
    "```sql\n",
    "/* Write your T-SQL query statement below */\n",
    "SELECT a1.machine_id, ROUND(AVG(a2.timestamp - a1.timestamp), 3) AS processing_time\n",
    "FROM Activity a1\n",
    "CROSS JOIN Activity a2\n",
    "WHERE a1.machine_id = a2.machine_id \n",
    "      AND a1.process_id = a2.process_id \n",
    "      AND a1.activity_type = 'start'\n",
    "      AND a2.activity_type = 'end'\n",
    "GROUP BY a1.machine_id\n",
    "```"
   ]
  },
  {
   "cell_type": "markdown",
   "id": "add8f172-0d62-4b03-b7cf-7bcf0958f8e1",
   "metadata": {},
   "source": [
    "<a id='Employee_Bonus'></a>\n",
    "# Employee_Bonus"
   ]
  },
  {
   "cell_type": "markdown",
   "id": "54dd5118-f299-4211-9185-830aa49e95b5",
   "metadata": {},
   "source": [
    "```sql\n",
    "/* Write your T-SQL query statement below */\n",
    "SELECT name, bonus\n",
    "FROM Employee e\n",
    "LEFT JOIN Bonus s\n",
    "ON e.empId = s.empId\n",
    "WHERE bonus < 1000 OR bonus IS NULL\n",
    "```"
   ]
  },
  {
   "cell_type": "markdown",
   "id": "e88e79bd-9b89-496a-adbc-07e335732b57",
   "metadata": {},
   "source": [
    "<a id='Students_and_Examinations'></a>\n",
    "# Students_and_Examinations"
   ]
  },
  {
   "cell_type": "markdown",
   "id": "3d518efc-5a0f-4efc-b46d-3114aeb38fdd",
   "metadata": {},
   "source": [
    "```sql\n",
    "/* Write your T-SQL query statement below */\n",
    "SELECT Distinct s.student_id, s.student_name, sub.subject_name, COUNT(e.student_id) AS attended_exams\n",
    "FROM Students s\n",
    "CROSS JOIN Subjects sub\n",
    "LEFT JOIN Examinations e\n",
    "ON e.student_id = s.student_id AND e.subject_name = sub.subject_name\n",
    "GROUP BY s.student_id, s.student_name, sub.subject_name\n",
    "\n",
    "```"
   ]
  },
  {
   "cell_type": "markdown",
   "id": "0f4220cb-6b2f-4f26-bf68-d7318b9921f4",
   "metadata": {},
   "source": [
    "<a id='Managers_with_at_Least_5_Direct_Reports'></a>\n",
    "# Managers_with_at_Least_5_Direct_Reports"
   ]
  },
  {
   "cell_type": "markdown",
   "id": "aa445f3e-7618-4fcd-9653-81a5f448e5e6",
   "metadata": {},
   "source": [
    "```sql\n",
    "/* Write your T-SQL query statement below */\n",
    "SELECT m.name\n",
    "FROM Employee AS e\n",
    "INNER JOIN Employee AS m ON e.managerId = m.id\n",
    "GROUP BY m.id, m.name\n",
    "HAVING COUNT(e.managerId) >= 5;\n",
    "```"
   ]
  },
  {
   "cell_type": "markdown",
   "id": "5ab9ca8e-47de-41d8-a2e7-ad7176952a47",
   "metadata": {},
   "source": [
    "```sql\n",
    "SELECT name\n",
    "FROM (SELECT mang.managerId, COUNT(mang.managerId) AS n_reports\n",
    "        FROM Employee mang\n",
    "        GROUP BY mang.managerId\n",
    "        HAVING COUNT(mang.managerId) >= 5) t1\n",
    "INNER JOIN Employee e\n",
    "ON t1.managerId = e.id\n",
    "```"
   ]
  },
  {
   "cell_type": "markdown",
   "id": "462f78a8-6b4c-491e-a83a-f30e6fc03dac",
   "metadata": {},
   "source": [
    "<a id='Confirmation_Rate'></a>\n",
    "# Confirmation_Rate"
   ]
  },
  {
   "cell_type": "markdown",
   "id": "fc4a766e-921a-4db5-985d-33f4bbe50e8f",
   "metadata": {},
   "source": [
    "```sql\n",
    "/* Write your T-SQL query statement below */\n",
    "SELECT s.user_id, ROUND(AVG(CASE WHEN c.action = 'confirmed' THEN 1.0 ELSE 0.0 END), 2) AS confirmation_rate\n",
    "FROM Signups s\n",
    "LEFT JOIN Confirmations c\n",
    "ON s.user_id = c.user_id\n",
    "GROUP BY s.user_id\n",
    "```"
   ]
  },
  {
   "cell_type": "markdown",
   "id": "3c3e3ac8-7a74-46d1-8712-76d70df75a69",
   "metadata": {},
   "source": [
    "<a id='Not_Boring_Movies'></a>\n",
    "# Not_Boring_Movies"
   ]
  },
  {
   "cell_type": "markdown",
   "id": "e01f6535-4cfd-49b8-a12e-597200b71d2e",
   "metadata": {},
   "source": [
    "```sql\n",
    "/* Write your T-SQL query statement below */\n",
    "SELECT id, movie, description, rating\n",
    "FROM Cinema\n",
    "WHERE id % 2 != 0 AND description != 'boring'\n",
    "ORDER BY rating DESC\n",
    "```"
   ]
  },
  {
   "cell_type": "markdown",
   "id": "df7e2bd5-14b1-4fc2-a9cf-74cc073cf549",
   "metadata": {},
   "source": [
    "<a id='Average_Selling_Price'></a>\n",
    "# Average_Selling_Price"
   ]
  },
  {
   "cell_type": "markdown",
   "id": "3052d932-62aa-45d6-a8e8-16e2a315bdd9",
   "metadata": {},
   "source": [
    "```sql\n",
    "/* Write your T-SQL query statement below */\n",
    "SELECT p.product_id, ISNULL(ROUND(SUM(p.price * u.units) / CAST(SUM(u.units) AS FLOAT), 2), 0) AS average_price\n",
    "FROM Prices p\n",
    "LEFT JOIN UnitsSold u\n",
    "ON p.product_id = u.product_id AND u.purchase_date BETWEEN p.start_date AND p.end_date\n",
    "GROUP BY p.product_id\n",
    "```"
   ]
  },
  {
   "cell_type": "markdown",
   "id": "0fffb8e7-ce2e-4527-a6f6-5a5c87be635a",
   "metadata": {},
   "source": [
    "<a id='Project_Employees_I'></a>\n",
    "# Project_Employees_I"
   ]
  },
  {
   "cell_type": "markdown",
   "id": "f9caf5df-4ed1-4e9e-b7ab-8bdee94f1129",
   "metadata": {},
   "source": [
    "```sql\n",
    "/* Write your T-SQL query statement below */\n",
    "SELECT project_id, ROUND(AVG(CAST(experience_years AS DECIMAL)), 2) average_years\n",
    "FROM Project p\n",
    "LEFT JOIN Employee e\n",
    "ON p.employee_id = e.employee_id\n",
    "GROUP BY project_id\n",
    "\n",
    "```"
   ]
  },
  {
   "cell_type": "markdown",
   "id": "2381b66c-1e81-4d41-a893-ef8431d98cab",
   "metadata": {},
   "source": [
    "<a id='Percentage_of_Users_Attended_a_Contest'></a>\n",
    "# Percentage_of_Users_Attended_a_Contest"
   ]
  },
  {
   "cell_type": "markdown",
   "id": "4367caaf-dec3-481d-a018-1d9868b792e2",
   "metadata": {},
   "source": [
    "```sql\n",
    "/* Write your T-SQL query statement below */    \n",
    "SELECT r.contest_id, \n",
    "       ROUND(100.0 * COUNT(DISTINCT r.user_id) / (SELECT COUNT(*) FROM Users), 2) AS percentage\n",
    "FROM Register r\n",
    "GROUP BY r.contest_id\n",
    "ORDER BY percentage DESC, contest_id;\n",
    "```"
   ]
  },
  {
   "cell_type": "markdown",
   "id": "3486d84a-d641-4f5d-a39c-7c8b2a3796a1",
   "metadata": {},
   "source": [
    "<a id='Queries_Quality_and_Percentage'></a>\n",
    "# Queries_Quality_and_Percentage"
   ]
  },
  {
   "cell_type": "markdown",
   "id": "52ffb0ad-bf51-4212-bce2-1357013d1175",
   "metadata": {},
   "source": [
    "```sql\n",
    "/* Write your T-SQL query statement below */\n",
    "SELECT \n",
    "    query_name, \n",
    "    ROUND(AVG(1.0 * rating / position), 2) AS quality, \n",
    "    ROUND(AVG(CASE WHEN rating < 3 THEN 1.0 ELSE 0.0 END) * 100, 2) AS poor_query_percentage\n",
    "FROM Queries\n",
    "GROUP BY query_name\n",
    "```"
   ]
  },
  {
   "cell_type": "markdown",
   "id": "caf04cb8-e86a-447b-97d7-4a2de40dea92",
   "metadata": {},
   "source": [
    "<a id='Monthly_Transactions_I'></a>\n",
    "# Monthly_Transactions_I"
   ]
  },
  {
   "cell_type": "markdown",
   "id": "2bdcae42-c2ac-43ac-a6ad-dc8a84fb0acc",
   "metadata": {},
   "source": [
    "```sql\n",
    "/* Write your T-SQL query statement below */\n",
    "SELECT \n",
    "    FORMAT(trans_date, 'yyyy-MM') AS month, \n",
    "    country, \n",
    "    COUNT(id) AS trans_count, \n",
    "    SUM(CASE WHEN state = 'approved' THEN 1 ELSE 0 END) AS approved_count,\n",
    "    SUM(amount) AS trans_total_amount,\n",
    "    SUM(CASE WHEN state = 'approved' THEN amount ELSE 0 END) AS approved_total_amount\n",
    "FROM Transactions\n",
    "GROUP BY FORMAT(trans_date, 'yyyy-MM'), country\n",
    "```"
   ]
  },
  {
   "cell_type": "markdown",
   "id": "583156f7-a548-4e5c-b2d6-585d9ce8047d",
   "metadata": {},
   "source": [
    "<a id='Immediate_Food_Delivery_II'></a>\n",
    "# Immediate_Food_Delivery_II"
   ]
  },
  {
   "cell_type": "markdown",
   "id": "7f828cfa-0b20-4469-8db8-2f0f97e73192",
   "metadata": {},
   "source": [
    "```sql\n",
    "/* Write your T-SQL query statement below */\n",
    "SELECT \n",
    "    ROUND(AVG(CASE WHEN d1.order_date = d1.customer_pref_delivery_date THEN 1.0 ELSE 0.0 END) * 100, 2) AS immediate_percentage\n",
    "FROM Delivery d1\n",
    "INNER JOIN (SELECT customer_id, MIN(order_date) AS first_order\n",
    "            FROM Delivery\n",
    "            GROUP BY customer_id) d2\n",
    "ON d1.customer_id = d2.customer_id AND d1.order_date = d2.first_order\n",
    "```"
   ]
  },
  {
   "cell_type": "markdown",
   "id": "5f0fbe16-39c4-4c8b-925a-694e7c0131b5",
   "metadata": {},
   "source": [
    "<a id='Game_Play_Analysis_IV'></a>\n",
    "# Game_Play_Analysis_IV"
   ]
  },
  {
   "cell_type": "markdown",
   "id": "44d03c75-1f4c-4981-bdc0-c3bb1974733a",
   "metadata": {},
   "source": [
    "```sql\n",
    "/* Write your T-SQL query statement below */\n",
    "SELECT \n",
    "    ROUND(\n",
    "        SUM(\n",
    "        CASE WHEN DATEDIFF(DAY, a2.first_date, a1.event_date) = 1 \n",
    "        THEN 1.0 ELSE 0.0 END\n",
    "            ) / COUNT(DISTINCT a1.player_id),\n",
    "        2) AS fraction\n",
    "FROM Activity a1\n",
    "INNER JOIN (SELECT player_id, MIN(event_date) first_date\n",
    "            FROM Activity\n",
    "            GROUP BY player_id) a2\n",
    "ON a1.player_id = a2.player_id\n",
    "```"
   ]
  },
  {
   "cell_type": "markdown",
   "id": "109b38d7-d242-4899-b302-664a449ff544",
   "metadata": {},
   "source": [
    "<a id='Number_of_Unique_Subjects_Taught_by_Each_Teacher'></a>\n",
    "# Number_of_Unique_Subjects_Taught_by_Each_Teacher"
   ]
  },
  {
   "cell_type": "markdown",
   "id": "26af5124-4e82-4c5f-bd26-118873f9f383",
   "metadata": {},
   "source": [
    "```sql\n",
    "/* Write your T-SQL query statement below */\n",
    "SELECT teacher_id, COUNT(DISTINCT subject_id) cnt\n",
    "FROM Teacher\n",
    "GROUP BY teacher_id\n",
    "```"
   ]
  },
  {
   "cell_type": "markdown",
   "id": "c409abc9-4781-4b97-907a-8738390c6442",
   "metadata": {},
   "source": [
    "<a id='User_Activity_for_the_Past_30_Days_I'></a>\n",
    "# User_Activity_for_the_Past_30_Days_I"
   ]
  },
  {
   "cell_type": "markdown",
   "id": "aaacc267-2242-483d-9acc-352b51f481e0",
   "metadata": {},
   "source": [
    "```sql\n",
    "/* Write your T-SQL query statement below */\n",
    "SELECT activity_date day, COUNT(DISTINCT user_id) active_users\n",
    "FROM Activity\n",
    "WHERE activity_date > DATEADD(DAY, -30, '2019-07-27') \n",
    "AND activity_date <= '2019-07-27'\n",
    "GROUP BY activity_date\n",
    "\n",
    "```"
   ]
  },
  {
   "cell_type": "markdown",
   "id": "1f392440-ff6c-4fe4-bedb-e5865c9fc4b9",
   "metadata": {},
   "source": [
    "<a id='Product Sales Analysis III'></a>\n",
    "# Product Sales Analysis III"
   ]
  },
  {
   "cell_type": "markdown",
   "id": "c148bea5-f010-4c2f-9e98-dbfe96abcc2f",
   "metadata": {},
   "source": [
    "```sql\n",
    "/* Write your T-SQL query statement below */\n",
    "SELECT S.product_id, T.first_year, S.quantity, S.price\n",
    "FROM Sales S\n",
    "INNER JOIN\n",
    "        (SELECT product_id, MIN(year) first_year\n",
    "        FROM Sales\n",
    "        GROUP BY product_id) T\n",
    "ON S.product_id = T.product_id\n",
    "WHERE T.first_year = S.year\n",
    "```"
   ]
  },
  {
   "cell_type": "markdown",
   "id": "6337f587-41ba-422b-815f-c1a348637784",
   "metadata": {},
   "source": [
    "<a id='Classes_With_at_Least_5_Students'></a>\n",
    "# Classes_With_at_Least_5_Students"
   ]
  },
  {
   "cell_type": "markdown",
   "id": "cc999185-0875-42e5-bde7-5851f5611005",
   "metadata": {},
   "source": [
    "```sql\n",
    "/* Write your T-SQL query statement below */\n",
    "SELECT class\n",
    "FROM courses\n",
    "GROUP BY class\n",
    "HAVING COUNT(student) >= 5\n",
    "```"
   ]
  },
  {
   "cell_type": "markdown",
   "id": "ff5b7efa-7ec9-4c4b-ad36-b563c249cfd1",
   "metadata": {},
   "source": [
    "<a id='Find_Followers_Count'></a>\n",
    "# Find_Followers_Count"
   ]
  },
  {
   "cell_type": "markdown",
   "id": "938ac65e-2f3e-4661-a2c3-c2db0d6ef57c",
   "metadata": {},
   "source": [
    "```sql\n",
    "/* Write your T-SQL query statement below */\n",
    "SELECT user_id, COUNT(*) followers_count\n",
    "FROM Followers\n",
    "GROUP BY user_id\n",
    "ORDER BY user_id\n",
    "```"
   ]
  },
  {
   "cell_type": "markdown",
   "id": "662f3ed7-94d4-4ba7-b228-58b548ae1c0b",
   "metadata": {},
   "source": [
    "<a id='Biggest_Single_Number'></a>\n",
    "# Biggest_Single_Number"
   ]
  },
  {
   "cell_type": "markdown",
   "id": "3729cab4-6b8e-41d9-811e-634cdddf547a",
   "metadata": {},
   "source": [
    "```sql\n",
    "/* Write your T-SQL query statement below */\n",
    "\n",
    "SELECT TOP(1) t2.num\n",
    "FROM MyNumbers t1\n",
    "LEFT JOIN\n",
    "(\n",
    "    SELECT num, COUNT(*) n_count\n",
    "    FROM MyNumbers\n",
    "    GROUP BY num\n",
    "    HAVING COUNT(*) = 1\n",
    ") t2\n",
    "ON t1.num = t2.num\n",
    "ORDER BY t2.num DESC\n",
    "```"
   ]
  },
  {
   "cell_type": "markdown",
   "id": "19d27f5e-0c0f-4957-a0d9-8ebc6549fbce",
   "metadata": {},
   "source": [
    "<a id='Customers_Who_Bought_All_Products'></a>\n",
    "# Customers_Who_Bought_All_Products"
   ]
  },
  {
   "cell_type": "markdown",
   "id": "f6e3a2f7-37fe-41a3-b352-ef1a3ff0123a",
   "metadata": {},
   "source": [
    "```sql\n",
    "SELECT customer_id\n",
    "FROM Customer\n",
    "GROUP BY customer_id\n",
    "HAVING COUNT(DISTINCT product_key) = (SELECT COUNT(*) FROM Product)\n",
    "```"
   ]
  },
  {
   "cell_type": "markdown",
   "id": "3179014d-a084-40ea-8f7b-fbbd086d6592",
   "metadata": {},
   "source": [
    "<a id='The_Number_of_Employees_Which_Report_to_Each_Employee'></a>\n",
    "# The_Number_of_Employees_Which_Report_to_Each_Employee"
   ]
  },
  {
   "cell_type": "markdown",
   "id": "a899eb89-a34b-4d0d-a5b5-5a3b972b862e",
   "metadata": {},
   "source": [
    "```sql\n",
    "SELECT employee_id, name, reports_count, average_age\n",
    "FROM Employees e\n",
    "INNER JOIN (\n",
    "            SELECT reports_to, COUNT(*) AS reports_count, ROUND(AVG(age * 1.0), 0) average_age\n",
    "            FROM Employees\n",
    "            WHERE reports_to IS NOT NULL\n",
    "            GROUP BY reports_to\n",
    "            ) m\n",
    "ON e.employee_id = m.reports_to\n",
    "```"
   ]
  },
  {
   "cell_type": "markdown",
   "id": "daa29ce5-f006-4eb1-b21e-f73a669522f0",
   "metadata": {},
   "source": [
    "<a id='Primary_Department_for_Each_Employee'></a>\n",
    "# Primary_Department_for_Each_Employee"
   ]
  },
  {
   "cell_type": "markdown",
   "id": "8521ef0c-e2ce-46ca-8704-fa598cf620a2",
   "metadata": {},
   "source": [
    "```sql\n",
    "/* Write your T-SQL query statement below */\n",
    "SELECT employee_id, department_id\n",
    "FROM Employee e1\n",
    "WHERE primary_flag = 'Y' \n",
    "        OR employee_id IN (\n",
    "                            SELECT employee_id\n",
    "                            FROM Employee\n",
    "                            GROUP BY employee_id\n",
    "                            HAVING COUNT(employee_id) = 1)\n",
    "```"
   ]
  },
  {
   "cell_type": "markdown",
   "id": "8ae6324b-44b2-4221-b708-48c3accbe2c0",
   "metadata": {},
   "source": [
    "<a id='Triangle_Judgement'></a>\n",
    "# Triangle_Judgement"
   ]
  },
  {
   "cell_type": "markdown",
   "id": "0d4e1a0b-8c2f-4cb0-8816-340e13341308",
   "metadata": {},
   "source": [
    "```sql\n",
    "SELECT x, y, z,\n",
    "    CASE WHEN ((x + y > z) AND (x + z > y) AND (y + z > x)) THEN 'Yes' ELSE 'No' END AS triangle\n",
    "FROM Triangle\n",
    "```"
   ]
  },
  {
   "cell_type": "markdown",
   "id": "0c99a43f-024a-4d6a-ad2a-cc188d2fcce3",
   "metadata": {},
   "source": [
    "<a id='Consecutive_Numbers'></a>\n",
    "# Consecutive_Numbers"
   ]
  },
  {
   "cell_type": "markdown",
   "id": "ce25ffc7-5a87-4870-ba67-fb0f53d0c82e",
   "metadata": {},
   "source": [
    "```sql\n",
    "/* Write your T-SQL query statement below */\n",
    "SELECT DISTINCT num AS ConsecutiveNums \n",
    "FROM (SELECT num,\n",
    "        CASE WHEN (num = LEAD(num, 1) OVER(ORDER BY id)) AND \n",
    "                  (num = LEAD(num, 2) OVER(ORDER BY id)) THEN 1 ELSE 0 END AS mark_3\n",
    "        FROM Logs) t\n",
    "WHERE mark_3 = 1\n",
    "```"
   ]
  },
  {
   "cell_type": "markdown",
   "id": "a593dec8-a5f6-47d5-92af-c4a6ef4d0e04",
   "metadata": {},
   "source": [
    "<a id='Product_Price_at_a_Given_Date'></a>\n",
    "# Product_Price_at_a_Given_Date"
   ]
  },
  {
   "cell_type": "markdown",
   "id": "cf79a0d2-2bee-4031-b5f2-cb9211e5dcbd",
   "metadata": {},
   "source": [
    "```sql\n",
    "SELECT DISTINCT p3.product_id, CASE WHEN p4.new_price IS NULL THEN 10 ELSE p4.new_price END price\n",
    "FROM Products p3\n",
    "LEFT JOIN (SELECT p1.product_id, new_price\n",
    "            FROM Products p1\n",
    "            INNER JOIN (SELECT product_id, MAX(change_date) last_change_date\n",
    "                        FROM Products\n",
    "                        WHERE change_date <= '2019-08-16'\n",
    "                        GROUP BY product_id) p2\n",
    "            ON p1.product_id = p2.product_id AND change_date = last_change_date) p4\n",
    "ON p3.product_id = p4.product_id\n",
    "```"
   ]
  },
  {
   "cell_type": "markdown",
   "id": "55ee318f-1ab0-4707-8ac9-e7c004e08ff5",
   "metadata": {},
   "source": [
    "##### Another Solution\n",
    "```sql\n",
    "SELECT product_id,\n",
    "    FIRST_VALUE(new_price) OVER(PARTITION BY product_id ORDER BY change_date DESC) AS price\n",
    "FROM Products\n",
    "WHERE change_date <= '2019-08-16'\n",
    "UNION\n",
    "SELECT product_id, 10 AS price\n",
    "FROM Products\n",
    "GROUP BY product_id\n",
    "HAVING MIN(change_date) > '2019-08-16'\n",
    "```"
   ]
  },
  {
   "cell_type": "markdown",
   "id": "69c92714-3ac4-4d8c-89c8-d3965466183e",
   "metadata": {},
   "source": [
    "<a id='Last_Person_to_Fit_in_the_Bus'></a>\n",
    "# Last_Person_to_Fit_in_the_Bus"
   ]
  },
  {
   "cell_type": "markdown",
   "id": "8ed223af-fb53-4689-8f4f-29e9e094f593",
   "metadata": {},
   "source": [
    "```sql\n",
    "WITH ranked AS (SELECT person_id, person_name, weight, turn,\n",
    "                    SUM(weight) OVER(ORDER BY turn) total_weight\n",
    "                FROM [Queue])\n",
    "\n",
    "SELECT TOP(1) person_name\n",
    "FROM ranked\n",
    "WHERE total_weight <= 1000\n",
    "ORDER BY total_weight DESC\n",
    "```"
   ]
  },
  {
   "cell_type": "markdown",
   "id": "8c52e97a-32af-4596-8f6c-16bd5033c999",
   "metadata": {},
   "source": [
    "<a id='Count_Salary_Categories'></a>\n",
    "# Count_Salary_Categories"
   ]
  },
  {
   "cell_type": "markdown",
   "id": "a48cc375-f2fb-4bf7-a5f0-6b31da909810",
   "metadata": {},
   "source": [
    "```sql\n",
    "/* Write your T-SQL query statement below */\n",
    "WITH accounts_cat AS (\n",
    "    SELECT account_id, income, CASE WHEN income < 20000\n",
    "        THEN 'Low Salary'\n",
    "        WHEN income BETWEEN 20000 AND 50000\n",
    "        THEN 'Average Salary'\n",
    "        ELSE 'High Salary' END AS category\n",
    "    FROM accounts\n",
    ")\n",
    "\n",
    "SELECT b.category, COUNT(account_id) accounts_count\n",
    "FROM accounts_cat ac\n",
    "RIGHT JOIN (VALUES('Low Salary'), ('High Salary'), ('Average Salary')) AS b(category)\n",
    "ON ac.category = b.category\n",
    "GROUP BY b.category\n",
    "```"
   ]
  },
  {
   "cell_type": "markdown",
   "id": "2fa4224d-af35-4b29-bf99-c17626c389d2",
   "metadata": {},
   "source": [
    "<a id='Employees_Whose_Manager_Left_the_Company'></a>\n",
    "# Employees_Whose_Manager_Left_the_Company"
   ]
  },
  {
   "cell_type": "markdown",
   "id": "d94c009e-4754-4b59-bf7c-96078d1fb769",
   "metadata": {},
   "source": [
    "```sql\n",
    "/* Write your T-SQL query statement below */\n",
    "SELECT employee_id\n",
    "FROM Employees\n",
    "WHERE salary < 30000 AND manager_id IS NOT NULL\n",
    "AND manager_id NOT IN (SELECT employee_id FROM Employees)\n",
    "ORDER BY employee_id\n",
    "```"
   ]
  },
  {
   "cell_type": "markdown",
   "id": "e959b9aa-d85f-47a3-a3f7-76ef58f7b73b",
   "metadata": {},
   "source": [
    "<a id='Exchange_Seats'></a>\n",
    "# Exchange_Seats"
   ]
  },
  {
   "cell_type": "markdown",
   "id": "f94cbb1a-72ca-4884-aa5d-7625c2c1ff85",
   "metadata": {},
   "source": [
    "```sql\n",
    "/* Write your T-SQL query statement below */\n",
    "SELECT id,\n",
    "    ISNULL(\n",
    "        CASE WHEN id % 2 = 1\n",
    "        THEN LEAD(student) OVER(ORDER BY id)\n",
    "        ELSE LAG(student) OVER(ORDER BY id) END,\n",
    "        student\n",
    "    ) AS student\n",
    "FROM Seat\n",
    "```"
   ]
  },
  {
   "cell_type": "code",
   "execution_count": null,
   "id": "357e6861-7448-4412-809a-6d695b9107b7",
   "metadata": {},
   "outputs": [],
   "source": [
    "<a id='Refer_to'></a>\n",
    "# Refer_to"
   ]
  },
  {
   "cell_type": "code",
   "execution_count": null,
   "id": "ee00fe65-75f1-4ad6-9e01-dcb192978f20",
   "metadata": {},
   "outputs": [],
   "source": [
    "```sql\n",
    "\n",
    "```"
   ]
  },
  {
   "cell_type": "code",
   "execution_count": null,
   "id": "17da464a-2ae4-4762-8819-1221da071559",
   "metadata": {},
   "outputs": [],
   "source": [
    "<a id='Refer_to'></a>\n",
    "# Refer_to"
   ]
  },
  {
   "cell_type": "code",
   "execution_count": null,
   "id": "2378a4db-63de-45b6-ac2a-73bd88b3a881",
   "metadata": {},
   "outputs": [],
   "source": [
    "```sql\n",
    "\n",
    "```"
   ]
  }
 ],
 "metadata": {
  "kernelspec": {
   "display_name": "Python 3 (ipykernel)",
   "language": "python",
   "name": "python3"
  },
  "language_info": {
   "codemirror_mode": {
    "name": "ipython",
    "version": 3
   },
   "file_extension": ".py",
   "mimetype": "text/x-python",
   "name": "python",
   "nbconvert_exporter": "python",
   "pygments_lexer": "ipython3",
   "version": "3.12.7"
  }
 },
 "nbformat": 4,
 "nbformat_minor": 5
}
