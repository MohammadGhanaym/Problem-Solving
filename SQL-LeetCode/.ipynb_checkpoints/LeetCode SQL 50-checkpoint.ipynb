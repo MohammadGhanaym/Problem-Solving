{
 "cells": [
  {
   "cell_type": "markdown",
   "id": "0b09bc99-592e-42c0-bc85-a4331e79b807",
   "metadata": {},
   "source": [
    "# LeetCode SQL 50\n",
    "\n",
    "<li><a href=\"#Recyclable_and_Low_Fat_Products\">Recyclable_and_Low_Fat_Products</a></li>\n",
    "<li><a href=\"#Find_Customer_Referee\">Find_Customer_Referee</a></li>\n",
    "<li><a href=\"#Big_Countries\">Big_Countries</a></li>\n",
    "<li><a href=\"#Article_Views_I\">Article_Views_I</a></li>\n",
    "<li><a href=\"#Invalid_Tweets\">Invalid_Tweets</a></li>\n",
    "<li><a href=\"#Replace_Employee_ID_With_The_Unique_Identifier\">Replace_Employee_ID_With_The_Unique_Identifier</a></li>\n",
    "<li><a href=\"#Product_Sales_Analysis_I\">Product_Sales_Analysis_I</a></li>\n",
    "<li><a href=\"#Customer_Who_Visited_but_Did_Not_Make_Any_Transactions\">Customer_Who_Visited_but_Did_Not_Make_Any_Transactions</a></li>\n",
    "<li><a href=\"#Write_Here\">Write_Here</a></li>\n",
    "<li><a href=\"#Write_Here\">Write_Here</a></li>"
   ]
  },
  {
   "cell_type": "code",
   "execution_count": 11,
   "id": "2aec4ac0-a54f-47fd-9d84-fa779558b00e",
   "metadata": {},
   "outputs": [
    {
     "name": "stdin",
     "output_type": "stream",
     "text": [
      " Customer Who Visited but Did Not Make Any Transactions\n"
     ]
    },
    {
     "data": {
      "text/plain": [
       "'Customer_Who_Visited_but_Did_Not_Make_Any_Transactions'"
      ]
     },
     "execution_count": 11,
     "metadata": {},
     "output_type": "execute_result"
    }
   ],
   "source": [
    "input().replace(' ', '_')"
   ]
  },
  {
   "cell_type": "markdown",
   "id": "de2daad4-edfe-442d-a3f6-bd50590c1dc6",
   "metadata": {},
   "source": [
    "<a id='Recyclable_and_Low_Fat_Products'></a>\n",
    "# Recyclable_and_Low_Fat_Products"
   ]
  },
  {
   "cell_type": "markdown",
   "id": "593617d3-dac7-4568-a47e-8cc8835dbcc0",
   "metadata": {},
   "source": [
    "```sql\n",
    "/* Write your T-SQL query statement below */\n",
    "SELECT product_id\n",
    "FROM Products\n",
    "WHERE low_fats = 'Y' AND recyclable = 'Y'\n",
    "```"
   ]
  },
  {
   "cell_type": "markdown",
   "id": "382ea265-8af4-48e8-ad86-62acf56e9cbc",
   "metadata": {},
   "source": [
    "<a id='Find_Customer_Referee'></a>\n",
    "# Find_Customer_Referee"
   ]
  },
  {
   "cell_type": "markdown",
   "id": "157aa9e9-04b5-4609-afec-2bfd035436d1",
   "metadata": {},
   "source": [
    "```sql\n",
    "/* Write your T-SQL query statement below */\n",
    "SELECT name\n",
    "FROM Customer\n",
    "WHERE referee_id != 2 OR referee_id IS NULL\n",
    "```"
   ]
  },
  {
   "cell_type": "markdown",
   "id": "98d3e6c0-6c76-4295-8aa9-f774b0b61afb",
   "metadata": {},
   "source": [
    "<a id='Big_Countries'></a>\n",
    "# Big_Countries"
   ]
  },
  {
   "cell_type": "markdown",
   "id": "7a10a9e2-be10-451f-9b7e-a15af8cf7d3b",
   "metadata": {},
   "source": [
    "```sql\n",
    "/* Write your T-SQL query statement below */\n",
    "SELECT name, population, area\n",
    "FROM World\n",
    "WHERE area >= 3000000 OR population >= 25000000\n",
    "```"
   ]
  },
  {
   "cell_type": "markdown",
   "id": "2d7b4da1-8f68-4411-afba-134871718f8a",
   "metadata": {},
   "source": [
    "<a id='Article_Views_I'></a>\n",
    "# Article_Views_I"
   ]
  },
  {
   "cell_type": "markdown",
   "id": "0ef60e6c-dd78-4979-966c-a3c8be9b3c87",
   "metadata": {},
   "source": [
    "```sql\n",
    "/* Write your T-SQL query statement below */\n",
    "SELECT DISTINCT author_id AS id\n",
    "FROM Views\n",
    "WHERE author_id = viewer_id\n",
    "ORDER BY id \n",
    "```"
   ]
  },
  {
   "cell_type": "markdown",
   "id": "3ca6d431-a675-478a-a317-81298a3940b3",
   "metadata": {},
   "source": [
    "<a id='Invalid_Tweets'></a>\n",
    "# Invalid_Tweets"
   ]
  },
  {
   "cell_type": "markdown",
   "id": "fb207f90-cce4-4bd3-8c49-99a4e5c48ca8",
   "metadata": {},
   "source": [
    "```sql\n",
    "/* Write your T-SQL query statement below */\n",
    "SELECT tweet_id\n",
    "FROM Tweets\n",
    "WHERE LEN(content) > 15\n",
    "```"
   ]
  },
  {
   "cell_type": "markdown",
   "id": "d73c2212-b789-4e07-ad33-71e6562db222",
   "metadata": {},
   "source": [
    "<a id='Replace_Employee_ID_With_The_Unique_Identifier'></a>\n",
    "# Replace_Employee_ID_With_The_Unique_Identifier"
   ]
  },
  {
   "cell_type": "markdown",
   "id": "fefdf191-6bd3-4431-bf48-a66c5370fd3a",
   "metadata": {},
   "source": [
    "```sql\n",
    "SELECT unique_id, name\n",
    "FROM Employees e\n",
    "LEFT JOIN EmployeeUNI eUNI\n",
    "ON e.id = eUNI.id\n",
    "```"
   ]
  },
  {
   "cell_type": "markdown",
   "id": "10c85cca-3edf-4663-9c35-1533a60655bf",
   "metadata": {},
   "source": [
    "<a id='Product_Sales_Analysis_I'></a>\n",
    "# Product_Sales_Analysis_I"
   ]
  },
  {
   "cell_type": "markdown",
   "id": "8ff2b5ea-bf6b-4c28-a2b8-a179e7d4836e",
   "metadata": {},
   "source": [
    "```sql\n",
    "/* Write your T-SQL query statement below */\n",
    "SELECT product_name, year, price\n",
    "FROM Sales s\n",
    "INNER JOIN Product p\n",
    "ON s.product_id = p.product_id\n",
    "```"
   ]
  },
  {
   "cell_type": "markdown",
   "id": "a8824065-dcfc-4c94-8149-4a184bddf8e9",
   "metadata": {},
   "source": [
    "<a id='Customer_Who_Visited_but_Did_Not_Make_Any_Transactions'></a>\n",
    "# Customer_Who_Visited_but_Did_Not_Make_Any_Transactions"
   ]
  },
  {
   "cell_type": "markdown",
   "id": "08524415-c682-4d81-8715-48fb1742a9cd",
   "metadata": {},
   "source": [
    "```sql\n",
    "/* Write your T-SQL query statement below */\n",
    "SELECT customer_id, COUNT(*) AS count_no_trans\n",
    "FROM Visits v\n",
    "LEFT JOIN Transactions t\n",
    "ON v.visit_id = t.visit_id\n",
    "WHERE t.visit_id IS NULL\n",
    "GROUP BY customer_id\n",
    "```"
   ]
  },
  {
   "cell_type": "code",
   "execution_count": null,
   "id": "1abad059-1cd8-4aba-a698-fe6597a2b313",
   "metadata": {},
   "outputs": [],
   "source": [
    "<a id='Refer_to'></a>\n",
    "# Refer_to"
   ]
  },
  {
   "cell_type": "markdown",
   "id": "410e8754-8e6b-493f-8132-bc160eda3b32",
   "metadata": {},
   "source": [
    "```sql\n",
    "\n",
    "```"
   ]
  },
  {
   "cell_type": "code",
   "execution_count": null,
   "id": "46521246-2c17-4ded-89ef-9177791cc418",
   "metadata": {},
   "outputs": [],
   "source": [
    "<a id='Refer_to'></a>\n",
    "# Refer_to"
   ]
  },
  {
   "cell_type": "markdown",
   "id": "a7e348c8-6384-4090-83b0-79c96e869085",
   "metadata": {},
   "source": [
    "```sql\n",
    "\n",
    "```"
   ]
  }
 ],
 "metadata": {
  "kernelspec": {
   "display_name": "Python 3 (ipykernel)",
   "language": "python",
   "name": "python3"
  },
  "language_info": {
   "codemirror_mode": {
    "name": "ipython",
    "version": 3
   },
   "file_extension": ".py",
   "mimetype": "text/x-python",
   "name": "python",
   "nbconvert_exporter": "python",
   "pygments_lexer": "ipython3",
   "version": "3.12.3"
  }
 },
 "nbformat": 4,
 "nbformat_minor": 5
}
